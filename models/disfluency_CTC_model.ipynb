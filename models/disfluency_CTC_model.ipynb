{
 "cells": [
  {
   "cell_type": "code",
   "execution_count": 1,
   "id": "8c94b125",
   "metadata": {
    "execution": {
     "iopub.execute_input": "2025-05-01T01:31:14.129087Z",
     "iopub.status.busy": "2025-05-01T01:31:14.128457Z",
     "iopub.status.idle": "2025-05-01T01:32:49.916419Z",
     "shell.execute_reply": "2025-05-01T01:32:49.915828Z",
     "shell.execute_reply.started": "2025-05-01T01:31:14.129064Z"
    },
    "trusted": true
   },
   "outputs": [
    {
     "name": "stdout",
     "output_type": "stream",
     "text": [
      "Requirement already satisfied: librosa in /opt/anaconda3/lib/python3.12/site-packages (0.11.0)\n",
      "Requirement already satisfied: audioread>=2.1.9 in /opt/anaconda3/lib/python3.12/site-packages (from librosa) (3.0.1)\n",
      "Requirement already satisfied: numba>=0.51.0 in /opt/anaconda3/lib/python3.12/site-packages (from librosa) (0.60.0)\n",
      "Requirement already satisfied: numpy>=1.22.3 in /opt/anaconda3/lib/python3.12/site-packages (from librosa) (1.26.4)\n",
      "Requirement already satisfied: scipy>=1.6.0 in /opt/anaconda3/lib/python3.12/site-packages (from librosa) (1.14.1)\n",
      "Requirement already satisfied: scikit-learn>=1.1.0 in /opt/anaconda3/lib/python3.12/site-packages (from librosa) (1.5.1)\n",
      "Requirement already satisfied: joblib>=1.0 in /opt/anaconda3/lib/python3.12/site-packages (from librosa) (1.4.2)\n",
      "Requirement already satisfied: decorator>=4.3.0 in /opt/anaconda3/lib/python3.12/site-packages (from librosa) (5.1.1)\n",
      "Requirement already satisfied: soundfile>=0.12.1 in /opt/anaconda3/lib/python3.12/site-packages (from librosa) (0.13.1)\n",
      "Requirement already satisfied: pooch>=1.1 in /opt/anaconda3/lib/python3.12/site-packages (from librosa) (1.8.2)\n",
      "Requirement already satisfied: soxr>=0.3.2 in /opt/anaconda3/lib/python3.12/site-packages (from librosa) (0.5.0.post1)\n",
      "Requirement already satisfied: typing_extensions>=4.1.1 in /opt/anaconda3/lib/python3.12/site-packages (from librosa) (4.11.0)\n",
      "Requirement already satisfied: lazy_loader>=0.1 in /opt/anaconda3/lib/python3.12/site-packages (from librosa) (0.4)\n",
      "Requirement already satisfied: msgpack>=1.0 in /opt/anaconda3/lib/python3.12/site-packages (from librosa) (1.0.3)\n",
      "Requirement already satisfied: packaging in /opt/anaconda3/lib/python3.12/site-packages (from lazy_loader>=0.1->librosa) (24.1)\n",
      "Requirement already satisfied: llvmlite<0.44,>=0.43.0dev0 in /opt/anaconda3/lib/python3.12/site-packages (from numba>=0.51.0->librosa) (0.43.0)\n",
      "Requirement already satisfied: platformdirs>=2.5.0 in /opt/anaconda3/lib/python3.12/site-packages (from pooch>=1.1->librosa) (3.10.0)\n",
      "Requirement already satisfied: requests>=2.19.0 in /opt/anaconda3/lib/python3.12/site-packages (from pooch>=1.1->librosa) (2.32.3)\n",
      "Requirement already satisfied: threadpoolctl>=3.1.0 in /opt/anaconda3/lib/python3.12/site-packages (from scikit-learn>=1.1.0->librosa) (3.5.0)\n",
      "Requirement already satisfied: cffi>=1.0 in /opt/anaconda3/lib/python3.12/site-packages (from soundfile>=0.12.1->librosa) (1.17.1)\n",
      "Requirement already satisfied: pycparser in /opt/anaconda3/lib/python3.12/site-packages (from cffi>=1.0->soundfile>=0.12.1->librosa) (2.21)\n",
      "Requirement already satisfied: charset-normalizer<4,>=2 in /opt/anaconda3/lib/python3.12/site-packages (from requests>=2.19.0->pooch>=1.1->librosa) (3.3.2)\n",
      "Requirement already satisfied: idna<4,>=2.5 in /opt/anaconda3/lib/python3.12/site-packages (from requests>=2.19.0->pooch>=1.1->librosa) (3.7)\n",
      "Requirement already satisfied: urllib3<3,>=1.21.1 in /opt/anaconda3/lib/python3.12/site-packages (from requests>=2.19.0->pooch>=1.1->librosa) (2.2.3)\n",
      "Requirement already satisfied: certifi>=2017.4.17 in /opt/anaconda3/lib/python3.12/site-packages (from requests>=2.19.0->pooch>=1.1->librosa) (2025.1.31)\n",
      "Requirement already satisfied: jiwer in /opt/anaconda3/lib/python3.12/site-packages (3.1.0)\n",
      "Requirement already satisfied: click>=8.1.8 in /opt/anaconda3/lib/python3.12/site-packages (from jiwer) (8.1.8)\n",
      "Requirement already satisfied: rapidfuzz>=3.9.7 in /opt/anaconda3/lib/python3.12/site-packages (from jiwer) (3.13.0)\n",
      "Requirement already satisfied: tqdm in /opt/anaconda3/lib/python3.12/site-packages (4.66.5)\n",
      "Requirement already satisfied: torch in /opt/anaconda3/lib/python3.12/site-packages (2.3.1)\n",
      "Requirement already satisfied: filelock in /opt/anaconda3/lib/python3.12/site-packages (from torch) (3.13.1)\n",
      "Requirement already satisfied: typing-extensions>=4.8.0 in /opt/anaconda3/lib/python3.12/site-packages (from torch) (4.11.0)\n",
      "Requirement already satisfied: sympy in /opt/anaconda3/lib/python3.12/site-packages (from torch) (1.13.2)\n",
      "Requirement already satisfied: networkx in /opt/anaconda3/lib/python3.12/site-packages (from torch) (3.3)\n",
      "Requirement already satisfied: jinja2 in /opt/anaconda3/lib/python3.12/site-packages (from torch) (3.1.4)\n",
      "Requirement already satisfied: fsspec in /opt/anaconda3/lib/python3.12/site-packages (from torch) (2024.6.1)\n",
      "Requirement already satisfied: MarkupSafe>=2.0 in /opt/anaconda3/lib/python3.12/site-packages (from jinja2->torch) (2.1.3)\n",
      "Requirement already satisfied: mpmath<1.4,>=1.1.0 in /opt/anaconda3/lib/python3.12/site-packages (from sympy->torch) (1.3.0)\n"
     ]
    }
   ],
   "source": [
    "!pip install librosa\n",
    "!pip install jiwer\n",
    "!pip install tqdm\n",
    "!pip install torch\n",
    "import os\n",
    "import tarfile\n",
    "import librosa\n",
    "import numpy as np\n",
    "import pandas as pd\n",
    "import torch\n",
    "import torch.nn as nn\n",
    "import torch.nn.functional as F\n",
    "from torch.utils.data import Dataset, DataLoader, random_split\n",
    "from jiwer import wer, cer\n",
    "from pathlib import Path\n",
    "from tqdm import tqdm\n",
    "import matplotlib.pyplot as plt\n",
    "import string\n",
    "import urllib"
   ]
  },
  {
   "cell_type": "code",
   "execution_count": 2,
   "id": "42e039c7",
   "metadata": {
    "execution": {
     "iopub.execute_input": "2025-05-01T01:32:49.917889Z",
     "iopub.status.busy": "2025-05-01T01:32:49.917540Z",
     "iopub.status.idle": "2025-05-01T01:32:49.921472Z",
     "shell.execute_reply": "2025-05-01T01:32:49.920845Z",
     "shell.execute_reply.started": "2025-05-01T01:32:49.917871Z"
    },
    "trusted": true
   },
   "outputs": [],
   "source": [
    "# Define download URLs\n",
    "urls = [\n",
    "    \"https://www.cs.toronto.edu/~complingweb/data/TORGO/F.tar.bz2\",\n",
    "    \"https://www.cs.toronto.edu/~complingweb/data/TORGO/FC.tar.bz2\",\n",
    "    \"https://www.cs.toronto.edu/~complingweb/data/TORGO/M.tar.bz2\",\n",
    "    \"https://www.cs.toronto.edu/~complingweb/data/TORGO/MC.tar.bz2\"\n",
    "]"
   ]
  },
  {
   "cell_type": "code",
   "execution_count": 3,
   "id": "79cd1ede",
   "metadata": {
    "execution": {
     "iopub.execute_input": "2025-05-01T01:32:49.922512Z",
     "iopub.status.busy": "2025-05-01T01:32:49.922291Z",
     "iopub.status.idle": "2025-05-01T01:32:49.944855Z",
     "shell.execute_reply": "2025-05-01T01:32:49.944204Z",
     "shell.execute_reply.started": "2025-05-01T01:32:49.922488Z"
    },
    "trusted": true
   },
   "outputs": [],
   "source": [
    "# Set up directories\n",
    "data_dir = Path(\"torgo_data\")\n",
    "downloads_dir = data_dir / \"downloads\"\n",
    "extract_dir = data_dir / \"extracted\"\n",
    "\n",
    "downloads_dir.mkdir(parents=True, exist_ok=True)\n",
    "extract_dir.mkdir(parents=True, exist_ok=True)"
   ]
  },
  {
   "cell_type": "code",
   "execution_count": 4,
   "id": "a595a4b4",
   "metadata": {
    "execution": {
     "iopub.execute_input": "2025-05-01T01:32:49.945835Z",
     "iopub.status.busy": "2025-05-01T01:32:49.945566Z",
     "iopub.status.idle": "2025-05-01T01:35:05.481750Z",
     "shell.execute_reply": "2025-05-01T01:35:05.481123Z",
     "shell.execute_reply.started": "2025-05-01T01:32:49.945811Z"
    },
    "trusted": true
   },
   "outputs": [
    {
     "name": "stdout",
     "output_type": "stream",
     "text": [
      "F.tar.bz2 already downloaded.\n",
      "FC.tar.bz2 already downloaded.\n",
      "M.tar.bz2 already downloaded.\n",
      "MC.tar.bz2 already downloaded.\n"
     ]
    }
   ],
   "source": [
    "# Download archives if not already present\n",
    "for url in urls:\n",
    "    filename = url.split(\"/\")[-1]\n",
    "    filepath = downloads_dir / filename\n",
    "    if not filepath.exists():\n",
    "        print(f\"Downloading {filename}...\")\n",
    "        urllib.request.urlretrieve(url, filepath)\n",
    "    else:\n",
    "        print(f\"{filename} already downloaded.\")"
   ]
  },
  {
   "cell_type": "code",
   "execution_count": 5,
   "id": "b0e866d3",
   "metadata": {
    "execution": {
     "iopub.execute_input": "2025-05-01T01:35:05.483648Z",
     "iopub.status.busy": "2025-05-01T01:35:05.483446Z",
     "iopub.status.idle": "2025-05-01T01:45:30.237750Z",
     "shell.execute_reply": "2025-05-01T01:45:30.236598Z",
     "shell.execute_reply.started": "2025-05-01T01:35:05.483632Z"
    },
    "trusted": true
   },
   "outputs": [
    {
     "name": "stdout",
     "output_type": "stream",
     "text": [
      "Extracting F.tar.bz2...\n"
     ]
    },
    {
     "name": "stderr",
     "output_type": "stream",
     "text": [
      "/var/folders/f0/wrmnpm7j7kx14k9b5mvxkg0m0000gn/T/ipykernel_49909/4222748948.py:5: DeprecationWarning: Python 3.14 will, by default, filter extracted tar archives and reject files or modify their metadata. Use the filter argument to control this behavior.\n",
      "  tar.extractall(path=extract_dir)\n"
     ]
    },
    {
     "name": "stdout",
     "output_type": "stream",
     "text": [
      "Extracting MC.tar.bz2...\n",
      "Extracting FC.tar.bz2...\n",
      "Extracting M.tar.bz2...\n"
     ]
    }
   ],
   "source": [
    "# Extract archives\n",
    "for file in downloads_dir.glob(\"*.tar.bz2\"):\n",
    "    print(f\"Extracting {file.name}...\")\n",
    "    with tarfile.open(file, \"r:bz2\") as tar:\n",
    "        tar.extractall(path=extract_dir)"
   ]
  },
  {
   "cell_type": "code",
   "execution_count": 6,
   "id": "09592057",
   "metadata": {
    "execution": {
     "iopub.status.busy": "2025-05-01T01:45:30.238357Z",
     "iopub.status.idle": "2025-05-01T01:45:30.238601Z",
     "shell.execute_reply": "2025-05-01T01:45:30.238481Z",
     "shell.execute_reply.started": "2025-05-01T01:45:30.238472Z"
    },
    "trusted": true
   },
   "outputs": [
    {
     "name": "stdout",
     "output_type": "stream",
     "text": [
      "Found 16958 usable (wav, prompt) pairs.\n"
     ]
    }
   ],
   "source": [
    "# Filter and pair WAV files with valid prompt text files\n",
    "pairs = []\n",
    "\n",
    "def is_valid_prompt(txt_path):\n",
    "    try:\n",
    "        content = txt_path.read_text().strip().lower()\n",
    "        return 'xxx' not in content and '.jpg' not in content\n",
    "    except:\n",
    "        return False  # skip unreadable files\n",
    "\n",
    "for session_dir in extract_dir.rglob(\"Session*\"):\n",
    "    prompt_dir = session_dir / \"prompts\"\n",
    "    if not prompt_dir.exists():\n",
    "        continue\n",
    "\n",
    "    # Get valid prompts\n",
    "    prompt_map = {\n",
    "        p.stem: p for p in prompt_dir.glob(\"*.txt\") if is_valid_prompt(p)\n",
    "    }\n",
    "\n",
    "    for wav_dir in session_dir.glob(\"wav_*\"):\n",
    "        for wav_file in wav_dir.glob(\"*.wav\"):\n",
    "            utt_id = wav_file.stem\n",
    "            prompt_file = prompt_map.get(utt_id)\n",
    "            if prompt_file:\n",
    "                pairs.append((wav_file, prompt_file))\n",
    "\n",
    "print(f\"Found {len(pairs)} usable (wav, prompt) pairs.\")"
   ]
  },
  {
   "cell_type": "code",
   "execution_count": 7,
   "id": "cafd8058",
   "metadata": {
    "execution": {
     "iopub.status.busy": "2025-05-01T01:45:30.239986Z",
     "iopub.status.idle": "2025-05-01T01:45:30.240226Z",
     "shell.execute_reply": "2025-05-01T01:45:30.240135Z",
     "shell.execute_reply.started": "2025-05-01T01:45:30.240125Z"
    },
    "trusted": true
   },
   "outputs": [
    {
     "name": "stdout",
     "output_type": "stream",
     "text": [
      "Pair 1: torgo_data/extracted/MC02/Session2/wav_arrayMic/0164.wav <-> torgo_data/extracted/MC02/Session2/prompts/0164.txt\n",
      "Pair 2: torgo_data/extracted/MC02/Session2/wav_arrayMic/0170.wav <-> torgo_data/extracted/MC02/Session2/prompts/0170.txt\n",
      "Pair 3: torgo_data/extracted/MC02/Session2/wav_arrayMic/0158.wav <-> torgo_data/extracted/MC02/Session2/prompts/0158.txt\n",
      "Pair 4: torgo_data/extracted/MC02/Session2/wav_arrayMic/0010.wav <-> torgo_data/extracted/MC02/Session2/prompts/0010.txt\n",
      "Pair 5: torgo_data/extracted/MC02/Session2/wav_arrayMic/0038.wav <-> torgo_data/extracted/MC02/Session2/prompts/0038.txt\n"
     ]
    }
   ],
   "source": [
    "# Show some sample pairs\n",
    "for i, (wav, prompt) in enumerate(pairs[:5]):\n",
    "    print(f\"Pair {i+1}: {wav} <-> {prompt}\")"
   ]
  },
  {
   "cell_type": "markdown",
   "id": "287c3f01",
   "metadata": {},
   "source": [
    "## Normalize Data"
   ]
  },
  {
   "cell_type": "code",
   "execution_count": 8,
   "id": "7ad7672e",
   "metadata": {
    "execution": {
     "iopub.status.busy": "2025-05-01T01:45:30.241748Z",
     "iopub.status.idle": "2025-05-01T01:45:30.242179Z",
     "shell.execute_reply": "2025-05-01T01:45:30.242022Z",
     "shell.execute_reply.started": "2025-05-01T01:45:30.242003Z"
    },
    "trusted": true
   },
   "outputs": [],
   "source": [
    "# Paths\n",
    "extract_dir = Path(\"torgo_data/extracted\")\n",
    "output_dir = Path(\"torgo_dataset\")\n",
    "output_dir.mkdir(exist_ok=True)\n",
    "\n",
    "# Metadata and feature storage\n",
    "metadata = []\n",
    "features_dir = output_dir / \"mel_spectrograms\"\n",
    "features_dir.mkdir(exist_ok=True)\n",
    "\n",
    "dysarthric_sources = {\"F\", \"M\"}  # dysarthric speakers\n",
    "\n",
    "def normalize_text(text):\n",
    "    text = text.strip().lower()\n",
    "    text = text.translate(str.maketrans('', '', string.punctuation))\n",
    "    return text\n",
    "\n",
    "def is_valid_prompt(txt_path):\n",
    "    try:\n",
    "        content = txt_path.read_text().strip().lower()\n",
    "        return 'xxx' not in content and '.jpg' not in content\n",
    "    except:\n",
    "        return False\n",
    "\n",
    "def get_transcription(txt_path):\n",
    "    return normalize_text(txt_path.read_text().strip())\n",
    "\n",
    "def get_speaker_info(path):\n",
    "    parts = path.parts\n",
    "    for part in parts:\n",
    "        if part.startswith((\"F\", \"M\")) and len(part) == 4:\n",
    "            gender = part[0]\n",
    "            has_dysarthria = part[:2] in dysarthric_sources\n",
    "            return gender, has_dysarthria\n",
    "    return None, None\n",
    "\n",
    "def wav_to_mel(path, sr=16000, n_mels=80):\n",
    "    y, _ = librosa.load(path, sr=sr)\n",
    "    mel = librosa.feature.melspectrogram(y=y, sr=sr, n_mels=n_mels)\n",
    "    mel_db = librosa.power_to_db(mel, ref=np.max)\n",
    "    return mel_db"
   ]
  },
  {
   "cell_type": "code",
   "execution_count": 9,
   "id": "d366511e",
   "metadata": {
    "execution": {
     "iopub.status.busy": "2025-05-01T01:45:30.243289Z",
     "iopub.status.idle": "2025-05-01T01:45:30.243539Z",
     "shell.execute_reply": "2025-05-01T01:45:30.243439Z",
     "shell.execute_reply.started": "2025-05-01T01:45:30.243426Z"
    },
    "trusted": true
   },
   "outputs": [
    {
     "name": "stderr",
     "output_type": "stream",
     "text": [
      "Processing sessions: 100%|██████████| 30/30 [00:26<00:00,  1.14it/s]"
     ]
    },
    {
     "name": "stdout",
     "output_type": "stream",
     "text": [
      "\n",
      "Saved 11184 samples to torgo_dataset\n"
     ]
    },
    {
     "name": "stderr",
     "output_type": "stream",
     "text": [
      "\n"
     ]
    }
   ],
   "source": [
    "# Convert dataset\n",
    "for session_dir in tqdm(list(extract_dir.rglob(\"Session*\")), desc=\"Processing sessions\"):\n",
    "    prompt_dir = session_dir / \"prompts\"\n",
    "    if not prompt_dir.exists():\n",
    "        continue\n",
    "\n",
    "    prompt_map = {\n",
    "        p.stem: p for p in prompt_dir.glob(\"*.txt\") if is_valid_prompt(p)\n",
    "    }\n",
    "\n",
    "    for wav_dir in session_dir.glob(\"wav_*\"):\n",
    "        for wav_file in wav_dir.glob(\"*.wav\"):\n",
    "            utt_id = wav_file.stem\n",
    "            prompt_file = prompt_map.get(utt_id)\n",
    "            if prompt_file:\n",
    "                gender, has_dysarthria = get_speaker_info(wav_file)\n",
    "                if gender is None:\n",
    "                    continue\n",
    "\n",
    "                try:\n",
    "                    mel_spec = wav_to_mel(wav_file)\n",
    "                    npy_path = features_dir / f\"{wav_file.stem}_{gender}.npy\"\n",
    "                    np.save(npy_path, mel_spec)\n",
    "\n",
    "                    metadata.append({\n",
    "                        \"mel_path\": str(npy_path.resolve()),\n",
    "                        \"transcript\": get_transcription(prompt_file),\n",
    "                        \"has_dysarthria\": has_dysarthria,\n",
    "                        \"gender\": gender\n",
    "                    })\n",
    "                except Exception as e:\n",
    "                    print(f\"Error processing {wav_file}: {e}\")\n",
    "\n",
    "df = pd.DataFrame(metadata)\n",
    "df.to_csv(output_dir / \"metadata.csv\", index=False)\n",
    "print(f\"\\nSaved {len(df)} samples to {output_dir}\")"
   ]
  },
  {
   "cell_type": "markdown",
   "id": "be9d1909",
   "metadata": {},
   "source": [
    "## Disfluency CTC Model Building"
   ]
  },
  {
   "cell_type": "code",
   "execution_count": 10,
   "id": "62a42b5d",
   "metadata": {
    "execution": {
     "iopub.status.busy": "2025-05-01T01:45:30.244417Z",
     "iopub.status.idle": "2025-05-01T01:45:30.244635Z",
     "shell.execute_reply": "2025-05-01T01:45:30.244545Z",
     "shell.execute_reply.started": "2025-05-01T01:45:30.244535Z"
    },
    "trusted": true
   },
   "outputs": [],
   "source": [
    "# Dataset & Collate\n",
    "class TorgoSpeechDataset(Dataset):\n",
    "    def __init__(self, metadata_csv, max_len=512):\n",
    "        self.df = pd.read_csv(metadata_csv)\n",
    "        self.char_to_idx = self._build_vocab()\n",
    "        self.max_len = max_len\n",
    "\n",
    "    def _build_vocab(self):\n",
    "        vocab = sorted(set(\"\".join(self.df.transcript.tolist())))\n",
    "        vocab.append(\"[DISFL]\")  # include disfluency token in vocab\n",
    "        return {ch: i + 1 for i, ch in enumerate(vocab)}  # 0 = CTC blank\n",
    "\n",
    "    def _text_to_sequence(self, text):\n",
    "        return [self.char_to_idx.get(ch, 0) for ch in text.lower()][:self.max_len]\n",
    "\n",
    "    def __len__(self):\n",
    "        return len(self.df)\n",
    "\n",
    "    def __getitem__(self, idx):\n",
    "        row = self.df.iloc[idx]\n",
    "        mel = np.load(row.mel_path)\n",
    "        mel_tensor = torch.tensor(mel.T, dtype=torch.float32)\n",
    "        transcript = self._text_to_sequence(row.transcript)\n",
    "        return {\n",
    "            \"mel\": mel_tensor,\n",
    "            \"transcript\": torch.tensor(transcript, dtype=torch.long),\n",
    "            \"mel_len\": mel_tensor.shape[0],\n",
    "            \"transcript_len\": len(transcript)\n",
    "        }\n",
    "\n",
    "def collate_fn(batch):\n",
    "    B = len(batch)\n",
    "    feat_dim = batch[0][\"mel\"].shape[1]\n",
    "    max_mel = max(x[\"mel_len\"] for x in batch)\n",
    "    max_txt = max(x[\"transcript_len\"] for x in batch)\n",
    "\n",
    "    mels = torch.zeros(B, max_mel, feat_dim)\n",
    "    trans = torch.zeros(B, max_txt, dtype=torch.long)\n",
    "    mel_lens = []\n",
    "    trans_lens = []\n",
    "\n",
    "    for i, b in enumerate(batch):\n",
    "        mels[i, :b[\"mel_len\"]] = b[\"mel\"]\n",
    "        trans[i, :b[\"transcript_len\"]] = b[\"transcript\"]\n",
    "        mel_lens.append(b[\"mel_len\"])\n",
    "        trans_lens.append(b[\"transcript_len\"])\n",
    "\n",
    "    return {\n",
    "        \"mel\": mels,\n",
    "        \"transcript\": trans,\n",
    "        \"mel_lengths\": torch.tensor(mel_lens),\n",
    "        \"transcript_lengths\": torch.tensor(trans_lens)\n",
    "    }"
   ]
  },
  {
   "cell_type": "code",
   "execution_count": 11,
   "id": "2c73335f",
   "metadata": {
    "execution": {
     "iopub.status.busy": "2025-05-01T01:45:30.245562Z",
     "iopub.status.idle": "2025-05-01T01:45:30.245853Z",
     "shell.execute_reply": "2025-05-01T01:45:30.245718Z",
     "shell.execute_reply.started": "2025-05-01T01:45:30.245705Z"
    },
    "trusted": true
   },
   "outputs": [],
   "source": [
    "# Disfluency-Aware CTC Model\n",
    "class DisfluencyAwareCTC(nn.Module):\n",
    "    def __init__(self, input_dim, vocab_size):\n",
    "        super().__init__()\n",
    "        self.encoder = nn.LSTM(input_dim, 256, 3, batch_first=True, bidirectional=True)\n",
    "        self.blank_classifier = nn.Linear(512, 1)\n",
    "        self.gap_detector = nn.Sequential(\n",
    "            nn.Conv1d(512, 128, 3, padding=1),\n",
    "            nn.ReLU(),\n",
    "            nn.AdaptiveAvgPool1d(1),\n",
    "            nn.Flatten(),\n",
    "            nn.Linear(128, 2)\n",
    "        )\n",
    "        self.classifier = nn.Linear(512, vocab_size + 1)\n",
    "\n",
    "    def forward(self, x, lengths):\n",
    "        packed = nn.utils.rnn.pack_padded_sequence(x, lengths.cpu(), batch_first=True, enforce_sorted=False)\n",
    "        out, _ = self.encoder(packed)\n",
    "        out, _ = nn.utils.rnn.pad_packed_sequence(out, batch_first=True)\n",
    "        logits = self.classifier(out)\n",
    "        gap_logits = self.gap_detector(out.transpose(1, 2))\n",
    "        blank_probs = torch.sigmoid(self.blank_classifier(out)).squeeze(-1)\n",
    "        return logits, gap_logits, blank_probs"
   ]
  },
  {
   "cell_type": "code",
   "execution_count": 12,
   "id": "b7a3401c-b72b-41e1-b0f7-831ff73f6ea3",
   "metadata": {
    "execution": {
     "iopub.status.busy": "2025-05-01T01:45:30.247146Z",
     "iopub.status.idle": "2025-05-01T01:45:30.247451Z",
     "shell.execute_reply": "2025-05-01T01:45:30.247295Z",
     "shell.execute_reply.started": "2025-05-01T01:45:30.247284Z"
    },
    "trusted": true
   },
   "outputs": [],
   "source": [
    "# CTC Loss\n",
    "def compute_disfluency_ctc_loss(logits, targets, input_lengths, target_lengths, blank=0):\n",
    "    log_probs = F.log_softmax(logits, dim=-1).transpose(0, 1)\n",
    "    return F.ctc_loss(log_probs, targets, input_lengths, target_lengths, blank=blank, zero_infinity=True)"
   ]
  },
  {
   "cell_type": "code",
   "execution_count": 13,
   "id": "f0873809-3089-4a08-b4c4-2358aeb8f310",
   "metadata": {
    "execution": {
     "iopub.status.busy": "2025-05-01T01:45:30.248897Z",
     "iopub.status.idle": "2025-05-01T01:45:30.249214Z",
     "shell.execute_reply": "2025-05-01T01:45:30.249078Z",
     "shell.execute_reply.started": "2025-05-01T01:45:30.249064Z"
    },
    "trusted": true
   },
   "outputs": [],
   "source": [
    "# Decoding\n",
    "def decode_disfluency_ctc_output(logits, idx_to_char, blank=0):\n",
    "    pred_ids = torch.argmax(logits, dim=-1).cpu().numpy()\n",
    "    outputs = []\n",
    "    for pred in pred_ids:\n",
    "        decoded = []\n",
    "        prev = None\n",
    "        for p in pred:\n",
    "            if p != blank and p != prev:\n",
    "                decoded.append(idx_to_char.get(p, \"\"))\n",
    "            prev = p\n",
    "        outputs.append(\" \".join(decoded))\n",
    "    return outputs"
   ]
  },
  {
   "cell_type": "code",
   "execution_count": 14,
   "id": "30f91a83-1126-4035-b42d-639252e0ee4e",
   "metadata": {
    "execution": {
     "iopub.status.busy": "2025-05-01T01:45:30.251232Z",
     "iopub.status.idle": "2025-05-01T01:45:30.251554Z",
     "shell.execute_reply": "2025-05-01T01:45:30.251418Z",
     "shell.execute_reply.started": "2025-05-01T01:45:30.251402Z"
    },
    "trusted": true
   },
   "outputs": [],
   "source": [
    "# Training\n",
    "def train_disfluency_ctc(model, dataset, batch_size=16, epochs=50, patience=5, device='cpu'):\n",
    "    idx_to_char = {v: k for k, v in dataset.char_to_idx.items()}\n",
    "    train_len = int(0.8 * len(dataset))\n",
    "    train_set, val_set = random_split(dataset, [train_len, len(dataset) - train_len])\n",
    "    train_loader = DataLoader(train_set, batch_size=batch_size, shuffle=True, collate_fn=collate_fn)\n",
    "    val_loader = DataLoader(val_set, batch_size=batch_size, shuffle=False, collate_fn=collate_fn)\n",
    "\n",
    "    model.to(device)\n",
    "    optimizer = torch.optim.Adam(model.parameters(), lr=1e-3)\n",
    "    best_val_loss = float('inf')\n",
    "    patience_counter = 0\n",
    "\n",
    "    train_losses, val_losses, wer_scores, cer_scores = [], [], [], []\n",
    "\n",
    "    for epoch in range(epochs):\n",
    "        model.train()\n",
    "        total_loss = 0\n",
    "        for batch in train_loader:\n",
    "            x = batch[\"mel\"].to(device)\n",
    "            y = batch[\"transcript\"].to(device)\n",
    "            x_lens = batch[\"mel_lengths\"].to(device)\n",
    "            y_lens = batch[\"transcript_lengths\"].to(device)\n",
    "\n",
    "            logits, _, _ = model(x, x_lens)\n",
    "            loss = compute_disfluency_ctc_loss(logits, y, x_lens, y_lens)\n",
    "\n",
    "            optimizer.zero_grad()\n",
    "            loss.backward()\n",
    "            optimizer.step()\n",
    "            total_loss += loss.item()\n",
    "\n",
    "        train_loss = total_loss / len(train_loader)\n",
    "        train_losses.append(train_loss)\n",
    "\n",
    "        model.eval()\n",
    "        val_loss = 0\n",
    "        refs, hyps = [], []\n",
    "        with torch.no_grad():\n",
    "            for batch in val_loader:\n",
    "                x = batch[\"mel\"].to(device)\n",
    "                y = batch[\"transcript\"].to(device)\n",
    "                x_lens = batch[\"mel_lengths\"].to(device)\n",
    "                y_lens = batch[\"transcript_lengths\"].to(device)\n",
    "\n",
    "                logits, _, _ = model(x, x_lens)\n",
    "                loss = compute_disfluency_ctc_loss(logits, y, x_lens, y_lens)\n",
    "                val_loss += loss.item()\n",
    "\n",
    "                decoded = decode_disfluency_ctc_output(logits, idx_to_char)\n",
    "                for i in range(len(decoded)):\n",
    "                    ref = \"\".join([idx_to_char.get(c.item(), \"\") for c in y[i, :y_lens[i]]])\n",
    "                    refs.append(ref)\n",
    "                    hyps.append(decoded[i])\n",
    "\n",
    "        avg_val_loss = val_loss / len(val_loader)\n",
    "        val_losses.append(avg_val_loss)\n",
    "        wer_val = wer(refs, hyps)\n",
    "        cer_val = cer(refs, hyps)\n",
    "        wer_scores.append(wer_val)\n",
    "        cer_scores.append(cer_val)\n",
    "\n",
    "        print(f\"Epoch {epoch+1}: Train Loss = {train_loss:.4f}, Val Loss = {avg_val_loss:.4f}, WER = {wer_val:.3f}, CER = {cer_val:.3f}\")\n",
    "\n",
    "        if avg_val_loss < best_val_loss:\n",
    "            best_val_loss = avg_val_loss\n",
    "            patience_counter = 0\n",
    "        else:\n",
    "            patience_counter += 1\n",
    "            if patience_counter >= patience:\n",
    "                print(\"Early stopping triggered.\")\n",
    "                break\n",
    "\n",
    "    plt.figure(figsize=(12, 5))\n",
    "    plt.subplot(1, 2, 1)\n",
    "    plt.plot(train_losses, label=\"Train Loss\")\n",
    "    plt.plot(val_losses, label=\"Val Loss\")\n",
    "    plt.title(\"Loss per Epoch\")\n",
    "    plt.xlabel(\"Epoch\")\n",
    "    plt.ylabel(\"Loss\")\n",
    "    plt.legend()\n",
    "\n",
    "    plt.subplot(1, 2, 2)\n",
    "    plt.plot(wer_scores, label=\"WER\")\n",
    "    plt.plot(cer_scores, label=\"CER\")\n",
    "    plt.title(\"WER and CER per Epoch\")\n",
    "    plt.xlabel(\"Epoch\")\n",
    "    plt.ylabel(\"Error Rate\")\n",
    "    plt.legend()\n",
    "\n",
    "    plt.tight_layout()\n",
    "    plt.show()\n",
    "\n",
    "    return model"
   ]
  },
  {
   "cell_type": "code",
   "execution_count": 17,
   "id": "305eb413-eb42-4614-9e23-15719aeb5621",
   "metadata": {
    "execution": {
     "iopub.status.busy": "2025-05-01T01:45:30.252471Z",
     "iopub.status.idle": "2025-05-01T01:45:30.253416Z",
     "shell.execute_reply": "2025-05-01T01:45:30.253273Z",
     "shell.execute_reply.started": "2025-05-01T01:45:30.253241Z"
    },
    "trusted": true
   },
   "outputs": [
    {
     "name": "stdout",
     "output_type": "stream",
     "text": [
      "Epoch 1: Train Loss = 4.1367, Val Loss = 3.6024, WER = 1.000, CER = 0.956\n",
      "Epoch 2: Train Loss = 3.5995, Val Loss = 3.5503, WER = 1.016, CER = 0.956\n",
      "Epoch 3: Train Loss = 3.5585, Val Loss = 3.5207, WER = 1.545, CER = 0.937\n",
      "Epoch 4: Train Loss = 3.5429, Val Loss = 3.5150, WER = 1.272, CER = 0.923\n",
      "Epoch 5: Train Loss = 3.5339, Val Loss = 3.5129, WER = 1.272, CER = 0.923\n",
      "Epoch 6: Train Loss = 3.5335, Val Loss = 3.4949, WER = 1.000, CER = 0.954\n",
      "Epoch 7: Train Loss = 3.5295, Val Loss = 3.5301, WER = 1.551, CER = 0.938\n",
      "Epoch 8: Train Loss = 3.5303, Val Loss = 3.5128, WER = 1.438, CER = 0.941\n",
      "Epoch 9: Train Loss = 3.5244, Val Loss = 3.5250, WER = 1.272, CER = 0.923\n",
      "Early stopping triggered.\n"
     ]
    },
    {
     "data": {
      "image/png": "[encoded data removed]",
      "text/plain": [
       "<Figure size 1200x500 with 2 Axes>"
      ]
     },
     "metadata": {},
     "output_type": "display_data"
    }
   ],
   "source": [
    "# Load dataset\n",
    "dataset = TorgoSpeechDataset(\"torgo_dataset/metadata.csv\")\n",
    "\n",
    "# Create model\n",
    "model = DisfluencyAwareCTC(input_dim=80, vocab_size=len(dataset.char_to_idx))\n",
    "\n",
    "# Train model\n",
    "trained_model = train_disfluency_ctc(\n",
    "    model=model,\n",
    "    dataset=dataset,\n",
    "    batch_size=32,\n",
    "    epochs=1000,\n",
    "    patience=3,\n",
    "    device=torch.device(\"cuda\" if torch.cuda.is_available() else \"cpu\")\n",
    ")"
   ]
  }
 ],
 "metadata": {
  "kaggle": {
   "accelerator": "nvidiaTeslaT4",
   "dataSources": [],
   "dockerImageVersionId": 31011,
   "isGpuEnabled": true,
   "isInternetEnabled": true,
   "language": "python",
   "sourceType": "notebook"
  },
  "kernelspec": {
   "display_name": "Python 3",
   "language": "python",
   "name": "python3"
  },
  "language_info": {
   "codemirror_mode": {
    "name": "ipython",
    "version": 3
   },
   "file_extension": ".py",
   "mimetype": "text/x-python",
   "name": "python",
   "nbconvert_exporter": "python",
   "pygments_lexer": "ipython3",
   "version": "3.13.1"
  }
 },
 "nbformat": 4,
 "nbformat_minor": 5
}
