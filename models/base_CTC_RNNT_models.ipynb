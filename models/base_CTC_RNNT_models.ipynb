{
  "nbformat": 4,
  "nbformat_minor": 0,
  "metadata": {
    "colab": {
      "provenance": [],
      "machine_shape": "hm",
      "gpuType": "A100",
      "authorship_tag": "ABX9TyNlHdGjr6fbKdkxfyZb/N8A",
      "include_colab_link": true
    },
    "kernelspec": {
      "name": "python3",
      "display_name": "Python 3"
    },
    "language_info": {
      "name": "python"
    },
    "accelerator": "GPU"
  },
  "cells": [
    {
      "cell_type": "markdown",
      "metadata": {
        "id": "view-in-github",
        "colab_type": "text"
      },
      "source": [
        "<a href=\"https://colab.research.google.com/github/captainkeemo/Dysarthric-Speech-Transcription/blob/main/models/base_CTC_RNNT_models.ipynb\" target=\"_parent\"><img src=\"https://colab.research.google.com/assets/colab-badge.svg\" alt=\"Open In Colab\"/></a>"
      ]
    },
    {
      "cell_type": "code",
      "source": [
        "!pip install jiwer editdistance --quiet"
      ],
      "metadata": {
        "colab": {
          "base_uri": "https://localhost:8080/"
        },
        "id": "Yt16kcAt1rQ5",
        "outputId": "82f5793f-1425-4774-ebb8-5a47a13020b3"
      },
      "execution_count": 1,
      "outputs": [
        {
          "output_type": "stream",
          "name": "stdout",
          "text": [
            "\u001b[?25l   \u001b[90m━━━━━━━━━━━━━━━━━━━━━━━━━━━━━━━━━━━━━━━━\u001b[0m \u001b[32m0.0/3.1 MB\u001b[0m \u001b[31m?\u001b[0m eta \u001b[36m-:--:--\u001b[0m\r\u001b[2K   \u001b[91m━━━━━\u001b[0m\u001b[91m╸\u001b[0m\u001b[90m━━━━━━━━━━━━━━━━━━━━━━━━━━━━━━━━━━\u001b[0m \u001b[32m0.4/3.1 MB\u001b[0m \u001b[31m12.7 MB/s\u001b[0m eta \u001b[36m0:00:01\u001b[0m\r\u001b[2K   \u001b[91m━━━━━━━━━━━━━━━━━━━━━━━━━━━━━━━━━━━━━━━\u001b[0m\u001b[91m╸\u001b[0m \u001b[32m3.1/3.1 MB\u001b[0m \u001b[31m44.4 MB/s\u001b[0m eta \u001b[36m0:00:01\u001b[0m\r\u001b[2K   \u001b[90m━━━━━━━━━━━━━━━━━━━━━━━━━━━━━━━━━━━━━━━━\u001b[0m \u001b[32m3.1/3.1 MB\u001b[0m \u001b[31m32.7 MB/s\u001b[0m eta \u001b[36m0:00:00\u001b[0m\n",
            "\u001b[?25h"
          ]
        }
      ]
    },
    {
      "cell_type": "code",
      "execution_count": 2,
      "metadata": {
        "id": "Hpptgrn4DkLj",
        "colab": {
          "base_uri": "https://localhost:8080/"
        },
        "outputId": "28a498c4-2e73-4350-bdc8-057eeeb47a68"
      },
      "outputs": [
        {
          "output_type": "stream",
          "name": "stdout",
          "text": [
            "Mounted at /content/drive\n"
          ]
        }
      ],
      "source": [
        "from google.colab import drive\n",
        "drive.mount('/content/drive')"
      ]
    },
    {
      "cell_type": "code",
      "source": [
        "import os\n",
        "import torch\n",
        "import torchaudio\n",
        "import torch.nn as nn\n",
        "import matplotlib.pyplot as plt\n",
        "from torch.utils.data import Dataset, DataLoader\n",
        "from jiwer import wer, cer\n",
        "import editdistance\n",
        "import glob\n",
        "from tqdm import tqdm\n",
        "import torch.nn.functional as F\n",
        "from tqdm.auto import tqdm\n",
        "from torch.nn.utils.rnn import pad_sequence\n",
        "from torch.utils.data import random_split"
      ],
      "metadata": {
        "id": "CyEKx_H6q-hU"
      },
      "execution_count": 3,
      "outputs": []
    },
    {
      "cell_type": "code",
      "source": [
        "from torch.cuda.amp import autocast, GradScaler\n",
        "scaler_ctc = GradScaler()\n",
        "scaler_rnnt = GradScaler()"
      ],
      "metadata": {
        "colab": {
          "base_uri": "https://localhost:8080/"
        },
        "id": "-rJaRsiH21Sv",
        "outputId": "98e8749e-09b9-4f38-f3d5-1e2090c89e4c"
      },
      "execution_count": 4,
      "outputs": [
        {
          "output_type": "stream",
          "name": "stderr",
          "text": [
            "<ipython-input-4-ae68ad2b3aa0>:2: FutureWarning: `torch.cuda.amp.GradScaler(args...)` is deprecated. Please use `torch.amp.GradScaler('cuda', args...)` instead.\n",
            "  scaler_ctc = GradScaler()\n",
            "<ipython-input-4-ae68ad2b3aa0>:3: FutureWarning: `torch.cuda.amp.GradScaler(args...)` is deprecated. Please use `torch.amp.GradScaler('cuda', args...)` instead.\n",
            "  scaler_rnnt = GradScaler()\n"
          ]
        }
      ]
    },
    {
      "cell_type": "code",
      "source": [
        "# Define vocabulary\n",
        "vocab = list(\"abcdefghijklmnopqrstuvwxyz '\") + [\"|\"]\n",
        "char_to_index = {c: i for i, c in enumerate(vocab)}\n",
        "index_to_char = {i: c for c, i in char_to_index.items()}\n"
      ],
      "metadata": {
        "id": "ociJ8CjFruC-"
      },
      "execution_count": 5,
      "outputs": []
    },
    {
      "cell_type": "code",
      "source": [
        "def clean_transcription(text):\n",
        "    text = text.lower().strip()\n",
        "    if '.jpg' in text or '[say' in text or text == 'xxx' or text == '':\n",
        "        return None\n",
        "    return text\n",
        "\n",
        "def decode_sequence(indices, index_to_char):\n",
        "    return ''.join([index_to_char.get(i, '') for i in indices]).replace('|', '').strip()"
      ],
      "metadata": {
        "id": "THjnexGQaZk1"
      },
      "execution_count": 6,
      "outputs": []
    },
    {
      "cell_type": "code",
      "source": [
        "# Function to get the device\n",
        "def get_device():\n",
        "    return torch.device(\"cuda\" if torch.cuda.is_available() else \"cpu\")"
      ],
      "metadata": {
        "id": "KmvJJFuWizAY"
      },
      "execution_count": 7,
      "outputs": []
    },
    {
      "cell_type": "code",
      "source": [
        "# Preprocessing Mel spectrograms\n",
        "def preprocess_and_save_mel(root_dir, save_dir, sample_rate=16000, n_mels=80, use_gpu=False):\n",
        "    os.makedirs(save_dir, exist_ok=True)\n",
        "\n",
        "    device = torch.device(\"cuda\" if use_gpu and torch.cuda.is_available() else \"cpu\")\n",
        "    mel_transform = torchaudio.transforms.MelSpectrogram(sample_rate=sample_rate, n_mels=n_mels).to(device)\n",
        "    resampler = torchaudio.transforms.Resample(orig_freq=48000, new_freq=sample_rate).to(device)\n",
        "\n",
        "    # Step 1: Gather .wav files with tqdm\n",
        "    print(\"Scanning for .wav files...\")\n",
        "    wav_paths = []\n",
        "    for dirpath, _, filenames in tqdm(os.walk(root_dir), desc=\"Scanning folders\"):\n",
        "        for fname in filenames:\n",
        "            if fname.endswith('.wav') and 'wav_headMic' in dirpath:\n",
        "                wav_paths.append(os.path.join(dirpath, fname))\n",
        "\n",
        "    print(f\"Found {len(wav_paths)} .wav files. Starting preprocessing...\")\n",
        "\n",
        "    total_saved = 0\n",
        "\n",
        "    # Step 2: Preprocess with tqdm\n",
        "    for wav_path in tqdm(wav_paths, desc=\"Preprocessing Mel Spectrograms\"):\n",
        "        mel_path = os.path.join(save_dir, os.path.basename(wav_path).replace('.wav', '.pt'))\n",
        "        txt_path = wav_path.replace('wav_headMic', 'prompts').replace('.wav', '.txt')\n",
        "\n",
        "        if not os.path.exists(txt_path) or os.path.exists(mel_path):\n",
        "            continue\n",
        "\n",
        "        try:\n",
        "            waveform, sr = torchaudio.load(wav_path)\n",
        "            waveform = waveform.to(device)\n",
        "\n",
        "            if sr != sample_rate:\n",
        "                waveform = resampler(waveform)\n",
        "\n",
        "            mel_spec = mel_transform(waveform).squeeze(0).transpose(0, 1).cpu()\n",
        "\n",
        "            with open(txt_path, 'r', encoding='utf-8') as f:\n",
        "                transcript = f.read().strip().lower()\n",
        "\n",
        "            if '.jpg' in transcript or transcript in ('xxx', '') or '[say' in transcript:\n",
        "                continue\n",
        "\n",
        "            torch.save((mel_spec, transcript), mel_path)\n",
        "            total_saved += 1\n",
        "        except Exception as e:\n",
        "            print(f\"Error processing {wav_path}: {e}\")\n",
        "\n",
        "    print(f\"\\nDone: {total_saved} mel .pt files saved to {save_dir}\")\n"
      ],
      "metadata": {
        "id": "hz_eW9R0oUwD"
      },
      "execution_count": 8,
      "outputs": []
    },
    {
      "cell_type": "code",
      "source": [
        "'''\n",
        "preprocess_and_save_mel(\n",
        "    root_dir=\"/content/drive/MyDrive/TORGO\",\n",
        "    save_dir=\"/content/drive/MyDrive/TORGO_mel_preprocessed\"\n",
        ")\n",
        "'''"
      ],
      "metadata": {
        "colab": {
          "base_uri": "https://localhost:8080/",
          "height": 54
        },
        "id": "RZt0Hj-SoZ1E",
        "outputId": "b742f5c2-6590-4803-8ce6-05e8d62baf89"
      },
      "execution_count": 9,
      "outputs": [
        {
          "output_type": "execute_result",
          "data": {
            "text/plain": [
              "'\\npreprocess_and_save_mel(\\n    root_dir=\"/content/drive/MyDrive/TORGO\",\\n    save_dir=\"/content/drive/MyDrive/TORGO_mel_preprocessed\"\\n)\\n'"
            ],
            "application/vnd.google.colaboratory.intrinsic+json": {
              "type": "string"
            }
          },
          "metadata": {},
          "execution_count": 9
        }
      ]
    },
    {
      "cell_type": "code",
      "source": [
        "class TorgoDataset(Dataset):\n",
        "    def __init__(self, root_dir, char_to_index, sample_rate=16000,\n",
        "                 items_file=None, use_precomputed=False, mel_dir=None):\n",
        "        self.char_to_index = char_to_index\n",
        "        self.sample_rate = sample_rate\n",
        "        self.use_precomputed = use_precomputed\n",
        "        self.items = []\n",
        "\n",
        "        if self.use_precomputed:\n",
        "            assert mel_dir is not None, \"If using precomputed features, you must provide mel_dir.\"\n",
        "            self.paths = sorted([\n",
        "                os.path.join(mel_dir, f)\n",
        "                for f in os.listdir(mel_dir) if f.endswith('.pt')\n",
        "            ])\n",
        "        else:\n",
        "            self.mel_transform = torchaudio.transforms.MelSpectrogram(sample_rate=sample_rate, n_mels=80)\n",
        "            self.resampler = torchaudio.transforms.Resample(orig_freq=48000, new_freq=sample_rate)\n",
        "\n",
        "            if items_file is not None:\n",
        "                loaded_items = torch.load(items_file)\n",
        "                for wav_fp, text in loaded_items:\n",
        "                    cleaned = clean_transcription(text)\n",
        "                    if cleaned:\n",
        "                        self.items.append((wav_fp, cleaned))\n",
        "            else:\n",
        "                wav_files = []\n",
        "                for dirpath, _, filenames in os.walk(root_dir):\n",
        "                    for fname in filenames:\n",
        "                        if fname.endswith('.wav') and 'wav_headMic' in dirpath:\n",
        "                            wav_files.append(os.path.join(dirpath, fname))\n",
        "\n",
        "                for wav_fp in tqdm(wav_files, desc=f\"Building dataset from .wav files ({len(wav_files)} found)\"):\n",
        "                    txt_fp = wav_fp.replace('wav_headMic', 'prompts').replace('.wav', '.txt')\n",
        "                    if not os.path.exists(txt_fp):\n",
        "                        continue\n",
        "                    with open(txt_fp, 'r', encoding='utf-8') as f:\n",
        "                        text = f.read()\n",
        "                    cleaned = clean_transcription(text)\n",
        "                    if cleaned:\n",
        "                        self.items.append((wav_fp, cleaned))\n",
        "\n",
        "    def __len__(self):\n",
        "        return len(self.paths) if self.use_precomputed else len(self.items)\n",
        "\n",
        "    def __getitem__(self, idx):\n",
        "        if self.use_precomputed:\n",
        "            mel_path = self.paths[idx]\n",
        "            mel_spec, transcript = torch.load(mel_path)\n",
        "        else:\n",
        "            wav_path, transcript = self.items[idx]\n",
        "            waveform, sr = torchaudio.load(wav_path)\n",
        "            if sr != self.sample_rate:\n",
        "                waveform = self.resampler(waveform)\n",
        "            mel_spec = self.mel_transform(waveform).squeeze(0).transpose(0, 1)\n",
        "\n",
        "        target = torch.tensor([self.char_to_index[c] for c in transcript if c in self.char_to_index], dtype=torch.long)\n",
        "        return mel_spec, target\n"
      ],
      "metadata": {
        "id": "NF-gwWrBq6zj"
      },
      "execution_count": 10,
      "outputs": []
    },
    {
      "cell_type": "code",
      "source": [
        "def collate_fn(batch):\n",
        "    features, targets = zip(*batch)\n",
        "\n",
        "    # Compute original lengths\n",
        "    input_lengths = torch.tensor([feat.size(0) for feat in features], dtype=torch.long)\n",
        "    target_lengths = torch.tensor([len(tgt) for tgt in targets], dtype=torch.long)\n",
        "\n",
        "    # Pad features (time dimension is dim 0)\n",
        "    padded_features = pad_sequence(features, batch_first=True)  # shape: [B, T, F]\n",
        "\n",
        "    # Pad targets for inspection (not used in loss)\n",
        "    padded_targets = pad_sequence(targets, batch_first=True, padding_value=0)\n",
        "\n",
        "    return padded_features, input_lengths, padded_targets, target_lengths\n"
      ],
      "metadata": {
        "id": "IVPwDf-um_OJ"
      },
      "execution_count": 11,
      "outputs": []
    },
    {
      "cell_type": "code",
      "source": [
        "# Define the full RNN-T model with encoder, decoder, and joiner\n",
        "class RNNTModel(nn.Module):\n",
        "    def __init__(self, input_dim=80, vocab_size=len(vocab), hidden_dim=128, embed_dim=64):\n",
        "        super().__init__()\n",
        "        self.encoder = nn.LSTM(input_dim, hidden_dim, batch_first=True, bidirectional=True)\n",
        "        self.embed = nn.Embedding(vocab_size, embed_dim)\n",
        "        self.decoder = nn.LSTM(embed_dim, hidden_dim, batch_first=True)\n",
        "        self.joiner = nn.Linear(hidden_dim * 2 + hidden_dim, vocab_size)  # enc (bi) + dec (uni)\n",
        "\n",
        "    def forward(self, encoder_input, target_input):\n",
        "        # encoder_input: [B, T_enc, 80]\n",
        "        # target_input: [B, T_dec]\n",
        "        enc_out, _ = self.encoder(encoder_input)  # [B, T_enc, 2*H]\n",
        "        dec_emb = self.embed(target_input)        # [B, T_dec, E]\n",
        "        dec_out, _ = self.decoder(dec_emb)        # [B, T_dec, H]\n",
        "\n",
        "        # Expand for joiner broadcasting\n",
        "        enc_exp = enc_out.unsqueeze(2)            # [B, T_enc, 1, 2H]\n",
        "        dec_exp = dec_out.unsqueeze(1)            # [B, 1, T_dec, H]\n",
        "\n",
        "        # Joiner: concat and project\n",
        "        enc_b, t_enc, _, h_enc = enc_exp.shape\n",
        "        dec_b, _, t_dec, h_dec = dec_exp.shape\n",
        "        assert enc_b == dec_b\n",
        "\n",
        "        enc_rep = enc_exp.expand(-1, t_enc, t_dec, -1)  # [B, T_enc, T_dec, 2H]\n",
        "        dec_rep = dec_exp.expand(-1, t_enc, t_dec, -1)  # [B, T_enc, T_dec, H]\n",
        "\n",
        "        joined = torch.cat([enc_rep, dec_rep], dim=-1)  # [B, T_enc, T_dec, 3H]\n",
        "        logits = self.joiner(joined)                    # [B, T_enc, T_dec, V]\n",
        "        return logits\n"
      ],
      "metadata": {
        "id": "AmPJl7HInLf0"
      },
      "execution_count": 12,
      "outputs": []
    },
    {
      "cell_type": "code",
      "source": [
        "# CTC Model Class\n",
        "class CTCModel(nn.Module):\n",
        "    def __init__(self, input_dim=80, hidden_dim=128, vocab_size=len(vocab), num_layers=2, dropout=0.1):\n",
        "        super().__init__()\n",
        "        self.lstm = nn.LSTM(input_dim, hidden_dim, batch_first=True, bidirectional=True, num_layers=num_layers, dropout=dropout)\n",
        "        self.fc = nn.Linear(hidden_dim * 2, vocab_size)\n",
        "\n",
        "    def forward(self, x):\n",
        "        x, _ = self.lstm(x)\n",
        "        logits = self.fc(x)\n",
        "        return logits  # shape: [B, T, vocab_size]\n"
      ],
      "metadata": {
        "id": "SriUtsBU1Yoh"
      },
      "execution_count": 13,
      "outputs": []
    },
    {
      "cell_type": "code",
      "source": [
        "class BeamSearch:\n",
        "    def __init__(self, beam_width, vocab_size, blank_index):\n",
        "        self.beam_width = beam_width\n",
        "        self.vocab_size = vocab_size\n",
        "        self.blank_index = blank_index\n",
        "\n",
        "    def decode(self, logits):\n",
        "        batch_size = logits.size(1)\n",
        "        T = logits.size(0)\n",
        "        results = []\n",
        "\n",
        "        for b in range(batch_size):\n",
        "            beams = [([], 0.0)]\n",
        "            for t in range(T):\n",
        "                new_beams = []\n",
        "                log_probs = F.log_softmax(logits[t, b], dim=-1)\n",
        "                topk = torch.topk(log_probs, self.beam_width)\n",
        "\n",
        "                for seq, score in beams:\n",
        "                    for i in range(self.beam_width):\n",
        "                        token = topk.indices[i].item()\n",
        "                        new_score = score + topk.values[i].item()\n",
        "                        if token == self.blank_index:\n",
        "                            new_beams.append((seq, new_score))\n",
        "                        else:\n",
        "                            new_beams.append((seq + [token], new_score))\n",
        "\n",
        "                new_beams.sort(key=lambda x: x[1], reverse=True)\n",
        "                beams = new_beams[:self.beam_width]\n",
        "\n",
        "            best_seq = max(beams, key=lambda x: x[1])[0]\n",
        "            results.append(best_seq)  # Changed from results.append([best_seq])\n",
        "\n",
        "        # Ensure results is always a list of lists even with beam_width=1\n",
        "        results = [[item] if isinstance(item, int) else item for item in results]\n",
        "\n",
        "        return results"
      ],
      "metadata": {
        "id": "5t3s_kBfeuMl"
      },
      "execution_count": 14,
      "outputs": []
    },
    {
      "cell_type": "code",
      "source": [
        "# Compute WER, CER, Edit Distance\n",
        "from torchaudio.functional import edit_distance as torchaudio_edit_distance\n",
        "from jiwer import wer, cer\n",
        "\n",
        "def compute_wer_cer(preds, input_lens, targets, target_lens, index_to_char):\n",
        "    total_wer, total_cer = 0.0, 0.0\n",
        "    offset = 0\n",
        "    valid_examples = 0\n",
        "\n",
        "    for i in range(len(preds)):\n",
        "        tlen = target_lens[i].item()\n",
        "        if tlen == 0:\n",
        "            continue  # skip empty targets\n",
        "\n",
        "        target_slice = targets[offset:offset + tlen]\n",
        "        target_seq = target_slice.view(-1).tolist()\n",
        "        offset += tlen\n",
        "\n",
        "        pred_seq = preds[i] if isinstance(preds[i], (list, tuple)) else [preds[i]]\n",
        "        pred_str = ''.join([index_to_char.get(p, '') for p in pred_seq])\n",
        "        target_str = ''.join([index_to_char.get(t, '') for t in target_seq])\n",
        "\n",
        "        if not target_str.strip():\n",
        "            continue  # skip if the reference string is still empty\n",
        "\n",
        "        total_wer += wer(target_str, pred_str)\n",
        "        total_cer += cer(target_str, pred_str)\n",
        "        valid_examples += 1\n",
        "\n",
        "    if valid_examples == 0:\n",
        "        return 1.0, 1.0  # fallback if no valid examples\n",
        "    return total_wer / valid_examples, total_cer / valid_examples\n",
        "\n"
      ],
      "metadata": {
        "id": "E4U-b7ik5JvW"
      },
      "execution_count": 15,
      "outputs": []
    },
    {
      "cell_type": "code",
      "source": [
        "from jiwer import cer\n",
        "\n",
        "def decode_indices(indices, index_to_char):\n",
        "    return ''.join([index_to_char[i] for i in indices if i in index_to_char]).replace('|', ' ').strip()\n",
        "\n",
        "def compute_cer_accuracy(preds, targets, target_lens, index_to_char):\n",
        "    offset = 0\n",
        "    all_refs, all_hyps = [], []\n",
        "    for i, tlen in enumerate(target_lens):\n",
        "        ref = ''.join([index_to_char[x.item()] for x in targets[offset:offset + tlen]])\n",
        "        hyp = ''.join([index_to_char[x] for x in preds[i]])\n",
        "        all_refs.append(ref)\n",
        "        all_hyps.append(hyp)\n",
        "        offset += tlen\n",
        "    return 1.0 - cer(all_refs, all_hyps)\n"
      ],
      "metadata": {
        "id": "ClzVUYm6nHqP"
      },
      "execution_count": 16,
      "outputs": []
    },
    {
      "cell_type": "code",
      "source": [
        "# Greedy decoding for character prediction from model output\n",
        "def greedy_decode(logits, input_lens, blank_index):\n",
        "    pred = logits.argmax(dim=2)\n",
        "    results = []\n",
        "    for i in range(pred.size(0)):\n",
        "        tokens, prev = [], None\n",
        "        for j in range(input_lens[i]):\n",
        "            idx = pred[i, j].item()\n",
        "            if idx != blank_index and idx != prev:\n",
        "                tokens.append(idx)\n",
        "            prev = idx\n",
        "        results.append(tokens)\n",
        "    return results"
      ],
      "metadata": {
        "id": "CtH_sjsInDa4"
      },
      "execution_count": 17,
      "outputs": []
    },
    {
      "cell_type": "code",
      "source": [
        "from tqdm import tqdm\n",
        "\n",
        "def train_ctc(model, train_loader, val_loader, optimizer, loss_fn, index_to_char,\n",
        "              device, epochs=20, patience=5, blank_idx=1, beam_width=5):\n",
        "\n",
        "    model.to(device)\n",
        "    best_val_loss = float('inf')\n",
        "    wait = 0\n",
        "\n",
        "    train_loss_hist, val_loss_hist = [], []\n",
        "    train_wer_hist, val_wer_hist = [], []\n",
        "    train_cer_hist, val_cer_hist = [], []\n",
        "\n",
        "    for epoch in range(epochs):\n",
        "        print(f\"\\nEpoch {epoch + 1}/{epochs}\")\n",
        "        model.train()\n",
        "        train_loss, train_wer, train_cer = 0, 0, 0\n",
        "\n",
        "        train_bar = tqdm(train_loader, desc=\"Training\", leave=False)\n",
        "        for feats, feat_lens, targets, target_lens in train_bar:\n",
        "            feats, feat_lens = feats.to(device), feat_lens.to(device)\n",
        "            targets, target_lens = targets.to(device), target_lens.to(device)\n",
        "\n",
        "            optimizer.zero_grad()\n",
        "            logits = model(feats)\n",
        "            log_probs = logits.log_softmax(2).transpose(0, 1)\n",
        "            loss = loss_fn(log_probs, targets, feat_lens, target_lens)\n",
        "            loss.backward()\n",
        "            optimizer.step()\n",
        "            train_loss += loss.item()\n",
        "\n",
        "            with torch.no_grad():\n",
        "                decoder = BeamSearch(beam_width, logits.size(2), blank_idx)\n",
        "                raw_preds = decoder.decode(log_probs.cpu())\n",
        "\n",
        "                preds = [beam[0] if isinstance(beam[0], (list, tuple)) else beam for beam in raw_preds]\n",
        "                preds = [p if isinstance(p, list) else [p] for p in preds]\n",
        "\n",
        "                wer_score, cer_score = compute_wer_cer(preds, feat_lens.cpu(), targets.cpu(), target_lens.cpu(), index_to_char)\n",
        "                train_wer += wer_score\n",
        "                train_cer += cer_score\n",
        "\n",
        "            train_bar.set_postfix(loss=loss.item(), WER=wer_score, CER=cer_score)\n",
        "\n",
        "        train_loss /= len(train_loader)\n",
        "        train_wer /= len(train_loader)\n",
        "        train_cer /= len(train_loader)\n",
        "\n",
        "        # --- Validation ---\n",
        "        model.eval()\n",
        "        val_loss, val_wer, val_cer = 0, 0, 0\n",
        "        val_bar = tqdm(val_loader, desc=\"Validating\", leave=False)\n",
        "        with torch.no_grad():\n",
        "            for feats, feat_lens, targets, target_lens in val_bar:\n",
        "                feats, feat_lens = feats.to(device), feat_lens.to(device)\n",
        "                targets, target_lens = targets.to(device), target_lens.to(device)\n",
        "\n",
        "                logits = model(feats)\n",
        "                log_probs = logits.log_softmax(2).transpose(0, 1)\n",
        "                loss = loss_fn(log_probs, targets, feat_lens, target_lens)\n",
        "                val_loss += loss.item()\n",
        "\n",
        "                decoder = BeamSearch(beam_width, logits.size(2), blank_idx)\n",
        "                raw_preds = decoder.decode(log_probs.cpu())\n",
        "\n",
        "                preds = [beam[0] if isinstance(beam[0], (list, tuple)) else beam for beam in raw_preds]\n",
        "                preds = [p if isinstance(p, list) else [p] for p in preds]\n",
        "\n",
        "                wer_score, cer_score = compute_wer_cer(preds, feat_lens.cpu(), targets.cpu(), target_lens.cpu(), index_to_char)\n",
        "                val_wer += wer_score\n",
        "                val_cer += cer_score\n",
        "\n",
        "                val_bar.set_postfix(loss=loss.item(), WER=wer_score, CER=cer_score)\n",
        "\n",
        "        val_loss /= len(val_loader)\n",
        "        val_wer /= len(val_loader)\n",
        "        val_cer /= len(val_loader)\n",
        "\n",
        "        train_loss_hist.append(train_loss)\n",
        "        val_loss_hist.append(val_loss)\n",
        "        train_wer_hist.append(train_wer)\n",
        "        val_wer_hist.append(val_wer)\n",
        "        train_cer_hist.append(train_cer)\n",
        "        val_cer_hist.append(val_cer)\n",
        "\n",
        "        print(f\"[CTC] Epoch {epoch+1}: \"\n",
        "              f\"Train Loss={train_loss:.4f}, WER={train_wer:.4f}, CER={train_cer:.4f} | \"\n",
        "              f\"Val Loss={val_loss:.4f}, WER={val_wer:.4f}, CER={val_cer:.4f}\")\n",
        "\n",
        "        if val_loss < best_val_loss:\n",
        "            best_val_loss = val_loss\n",
        "            torch.save(model.state_dict(), '/content/drive/MyDrive/best_ctc_model.pt')\n",
        "            wait = 0\n",
        "        else:\n",
        "            wait += 1\n",
        "            if wait >= patience:\n",
        "                print(\"Early stopping.\")\n",
        "                break\n",
        "\n",
        "    return train_loss_hist, val_loss_hist, train_wer_hist, val_wer_hist, train_cer_hist, val_cer_hist\n"
      ],
      "metadata": {
        "id": "KmX9KIL03Qb2"
      },
      "execution_count": 18,
      "outputs": []
    },
    {
      "cell_type": "code",
      "source": [
        "from tqdm import tqdm\n",
        "\n",
        "def train_rnnt(model, train_loader, val_loader, optimizer, loss_fn, index_to_char,\n",
        "               device, epochs=20, patience=5, blank_idx=1, beam_width=5):\n",
        "\n",
        "    model.to(device)\n",
        "    best_val_loss = float('inf')\n",
        "    wait = 0\n",
        "\n",
        "    train_loss_hist, val_loss_hist = [], []\n",
        "    train_wer_hist, val_wer_hist = [], []\n",
        "    train_cer_hist, val_cer_hist = [], []\n",
        "\n",
        "    for epoch in range(epochs):\n",
        "        model.train()\n",
        "        train_loss, train_wer, train_cer = 0, 0, 0\n",
        "\n",
        "        train_pbar = tqdm(train_loader, desc=f\"Epoch {epoch+1} - Training (RNN-T)\")\n",
        "        for feats, feat_lens, targets, target_lens in train_pbar:\n",
        "            feats, feat_lens = feats.to(device), feat_lens.to(device)\n",
        "            targets, target_lens = targets.to(device), target_lens.to(device)\n",
        "\n",
        "            optimizer.zero_grad()\n",
        "            logits = model(feats, targets)\n",
        "            T_enc = logits.shape[1]\n",
        "            T_dec = logits.shape[2]\n",
        "            min_len = min(T_enc, T_dec, feat_lens.max().item())\n",
        "            logits = logits[:, torch.arange(min_len), torch.arange(min_len), :]\n",
        "            log_probs = logits.log_softmax(2).transpose(0, 1)\n",
        "            feat_lens = torch.clamp(feat_lens, max=log_probs.shape[0])\n",
        "\n",
        "            loss = loss_fn(log_probs, targets, feat_lens, target_lens)\n",
        "            loss.backward()\n",
        "            optimizer.step()\n",
        "            train_loss += loss.item()\n",
        "\n",
        "            with torch.no_grad():\n",
        "                decoder = BeamSearch(beam_width, logits.size(2), blank_idx)\n",
        "                preds = decoder.decode(log_probs.cpu())\n",
        "                wer_score, cer_score = compute_wer_cer(preds, feat_lens.cpu(), targets.cpu(), target_lens.cpu(), index_to_char)\n",
        "                train_wer += wer_score\n",
        "                train_cer += cer_score\n",
        "\n",
        "        train_loss /= len(train_loader)\n",
        "        train_wer /= len(train_loader)\n",
        "        train_cer /= len(train_loader)\n",
        "\n",
        "        model.eval()\n",
        "        val_loss, val_wer, val_cer = 0, 0, 0\n",
        "        val_pbar = tqdm(val_loader, desc=f\"Epoch {epoch+1} - Validation (RNN-T)\")\n",
        "        with torch.no_grad():\n",
        "            for feats, feat_lens, targets, target_lens in val_pbar:\n",
        "                feats, feat_lens = feats.to(device), feat_lens.to(device)\n",
        "                targets, target_lens = targets.to(device), target_lens.to(device)\n",
        "\n",
        "                logits = model(feats, targets)\n",
        "                T_enc = logits.shape[1]\n",
        "                T_dec = logits.shape[2]\n",
        "                min_len = min(T_enc, T_dec, feat_lens.max().item())\n",
        "                logits = logits[:, torch.arange(min_len), torch.arange(min_len), :]\n",
        "                log_probs = logits.log_softmax(2).transpose(0, 1)\n",
        "                feat_lens = torch.clamp(feat_lens, max=log_probs.shape[0])\n",
        "\n",
        "                loss = loss_fn(log_probs, targets, feat_lens, target_lens)\n",
        "                val_loss += loss.item()\n",
        "\n",
        "                decoder = BeamSearch(beam_width, logits.size(2), blank_idx)\n",
        "                preds = decoder.decode(log_probs.cpu())\n",
        "                wer_score, cer_score = compute_wer_cer(preds, feat_lens.cpu(), targets.cpu(), target_lens.cpu(), index_to_char)\n",
        "                val_wer += wer_score\n",
        "                val_cer += cer_score\n",
        "\n",
        "        val_loss /= len(val_loader)\n",
        "        val_wer /= len(val_loader)\n",
        "        val_cer /= len(val_loader)\n",
        "\n",
        "        train_loss_hist.append(train_loss)\n",
        "        val_loss_hist.append(val_loss)\n",
        "        train_wer_hist.append(train_wer)\n",
        "        val_wer_hist.append(val_wer)\n",
        "        train_cer_hist.append(train_cer)\n",
        "        val_cer_hist.append(val_cer)\n",
        "\n",
        "        print(f\"[RNN-T] Epoch {epoch+1}: Train Loss={train_loss:.4f}, WER={train_wer:.4f}, CER={train_cer:.4f} | \"\n",
        "              f\"Val Loss={val_loss:.4f}, WER={val_wer:.4f}, CER={val_cer:.4f}\")\n",
        "\n",
        "        if val_loss < best_val_loss:\n",
        "            best_val_loss = val_loss\n",
        "            torch.save(model.state_dict(), '/content/drive/MyDrive/best_rnnt_model.pt')\n",
        "            wait = 0\n",
        "        else:\n",
        "            wait += 1\n",
        "            if wait >= patience:\n",
        "                print(\"Early stopping.\")\n",
        "                break\n",
        "\n",
        "    return train_loss_hist, val_loss_hist, train_wer_hist, val_wer_hist, train_cer_hist, val_cer_hist\n"
      ],
      "metadata": {
        "id": "KP0liDFI3U1W"
      },
      "execution_count": 19,
      "outputs": []
    },
    {
      "cell_type": "code",
      "source": [
        "import matplotlib.pyplot as plt\n",
        "\n",
        "def evaluate_and_plot_model(\n",
        "    model,\n",
        "    test_loader,\n",
        "    loss_fn,\n",
        "    index_to_char,\n",
        "    device,\n",
        "    blank_idx=1,\n",
        "    use_beam=True,\n",
        "    beam_width=5,\n",
        "    model_type=\"ctc\",\n",
        "    train_losses=None,\n",
        "    val_losses=None,\n",
        "    train_wer=None,\n",
        "    val_wer=None,\n",
        "    train_cer=None,\n",
        "    val_cer=None\n",
        "):\n",
        "    model.eval()\n",
        "    test_loss = 0\n",
        "    total_wer = 0\n",
        "    total_cer = 0\n",
        "\n",
        "    with torch.no_grad():\n",
        "        for feats, feat_lens, targets, target_lens in test_loader:\n",
        "            feats, feat_lens = feats.to(device), feat_lens.to(device)\n",
        "            targets, target_lens = targets.to(device), target_lens.to(device)\n",
        "\n",
        "            if model_type == \"rnnt\":\n",
        "                logits = model(feats, targets)\n",
        "                T_enc, T_dec = logits.shape[1], logits.shape[2]\n",
        "                min_len = min(T_enc, T_dec, feat_lens.max().item())\n",
        "                logits = logits[:, torch.arange(min_len), torch.arange(min_len), :]\n",
        "            else:\n",
        "                logits = model(feats)\n",
        "\n",
        "            log_probs = logits.log_softmax(2).transpose(0, 1)\n",
        "            feat_lens = torch.clamp(feat_lens, max=log_probs.shape[0])\n",
        "            loss = loss_fn(log_probs, targets, feat_lens, target_lens)\n",
        "            test_loss += loss.item()\n",
        "\n",
        "            decoder = BeamSearch(beam_width, logits.size(2), blank_idx) if use_beam else greedy_decode\n",
        "            preds = decoder.decode(log_probs.cpu()) if use_beam else decoder(log_probs.cpu().transpose(0, 1), feat_lens.cpu(), blank_idx)\n",
        "\n",
        "            wer_score, cer_score = compute_wer_cer(preds, feat_lens.cpu(), targets.cpu(), target_lens.cpu(), index_to_char)\n",
        "            total_wer += wer_score\n",
        "            total_cer += cer_score\n",
        "\n",
        "    test_loss /= len(test_loader)\n",
        "    total_wer /= len(test_loader)\n",
        "    total_cer /= len(test_loader)\n",
        "\n",
        "    print(f\"[Test – {model_type.upper()}] Loss: {test_loss:.4f} | WER: {total_wer:.4f} | CER: {total_cer:.4f}\")\n",
        "\n",
        "    # === PLOTTING CURVES ===\n",
        "    if train_losses and val_losses:\n",
        "        plt.figure(figsize=(8, 5))\n",
        "        plt.plot(train_losses, label=\"Train Loss\")\n",
        "        plt.plot(val_losses, label=\"Val Loss\")\n",
        "        plt.title(f\"{model_type.upper()} Loss Curve\")\n",
        "        plt.xlabel(\"Epoch\")\n",
        "        plt.ylabel(\"Loss\")\n",
        "        plt.legend()\n",
        "        plt.grid(True)\n",
        "        plt.show()\n",
        "\n",
        "    if train_wer and val_wer:\n",
        "        plt.figure(figsize=(8, 5))\n",
        "        plt.plot(train_wer, label=\"Train WER\")\n",
        "        plt.plot(val_wer, label=\"Val WER\")\n",
        "        plt.title(f\"{model_type.upper()} WER Curve\")\n",
        "        plt.xlabel(\"Epoch\")\n",
        "        plt.ylabel(\"WER\")\n",
        "        plt.legend()\n",
        "        plt.grid(True)\n",
        "        plt.show()\n",
        "\n",
        "    if train_cer and val_cer:\n",
        "        plt.figure(figsize=(8, 5))\n",
        "        plt.plot(train_cer, label=\"Train CER\")\n",
        "        plt.plot(val_cer, label=\"Val CER\")\n",
        "        plt.title(f\"{model_type.upper()} CER Curve\")\n",
        "        plt.xlabel(\"Epoch\")\n",
        "        plt.ylabel(\"CER\")\n",
        "        plt.legend()\n",
        "        plt.grid(True)\n",
        "        plt.show()\n",
        "\n",
        "    return {\n",
        "        \"test_loss\": test_loss,\n",
        "        \"test_wer\": total_wer,\n",
        "        \"test_cer\": total_cer\n",
        "    }\n"
      ],
      "metadata": {
        "id": "1HzSEUfL_WS9"
      },
      "execution_count": 20,
      "outputs": []
    },
    {
      "cell_type": "code",
      "source": [
        "# Load data\n",
        "data_dir = \"/content/drive/MyDrive/TORGO\"\n",
        "\n",
        "# Load dataset\n",
        "#dataset = TorgoDataset(data_dir, char_to_index)\n",
        "#torch.save(dataset.items, '/content/drive/MyDrive/torgo_items.pt')\n",
        "dataset = TorgoDataset(\n",
        "    root_dir=\"/content/drive/MyDrive/TORGO\",  # still required for structure\n",
        "    char_to_index=char_to_index,\n",
        "    use_precomputed=True,\n",
        "    mel_dir=\"/content/drive/MyDrive/TORGO_mel_preprocessed\"\n",
        ")\n",
        "print(f\"Dataset length: {len(dataset)}\")\n",
        "\n",
        "# Calculate lengths\n",
        "total_len = len(dataset)\n",
        "train_len = int(0.7 * total_len)\n",
        "val_len = int(0.1 * total_len)\n",
        "test_len = total_len - train_len - val_len\n",
        "\n",
        "# Perform split\n",
        "train_dataset, val_dataset, test_dataset = random_split(dataset, [train_len, val_len, test_len])\n",
        "\n",
        "# Create DataLoaders\n",
        "train_loader = DataLoader(train_dataset, batch_size=64, shuffle=True, collate_fn=collate_fn, pin_memory=True)\n",
        "val_loader = DataLoader(val_dataset, batch_size=64, shuffle=False, collate_fn=collate_fn, pin_memory=True)\n",
        "test_loader = DataLoader(test_dataset, batch_size=64, shuffle=False, collate_fn=collate_fn, pin_memory=True)\n",
        "\n"
      ],
      "metadata": {
        "colab": {
          "base_uri": "https://localhost:8080/"
        },
        "id": "dtyxmwrT3T8E",
        "outputId": "04ec0deb-f949-448b-f69e-bac88b1ac529"
      },
      "execution_count": 21,
      "outputs": [
        {
          "output_type": "stream",
          "name": "stdout",
          "text": [
            "Dataset length: 993\n"
          ]
        }
      ]
    },
    {
      "cell_type": "code",
      "source": [
        "import time\n",
        "\n",
        "# Train CTC model\n",
        "model_ctc = CTCModel()\n",
        "optimizer_ctc = torch.optim.Adam(model_ctc.parameters(), lr=1e-5)\n",
        "loss_fn_ctc = nn.CTCLoss(blank=char_to_index['|'], zero_infinity=True)\n",
        "device = get_device()\n",
        "\n",
        "start_time = time.time()\n",
        "ctc_train_loss, ctc_val_loss, ctc_train_wer, ctc_val_wer, ctc_train_cer, ctc_val_cer = train_ctc(\n",
        "    model=model_ctc,\n",
        "    train_loader=train_loader,\n",
        "    val_loader=val_loader,\n",
        "    optimizer=optimizer_ctc,\n",
        "    loss_fn=loss_fn_ctc,\n",
        "    index_to_char=index_to_char,\n",
        "    epochs=100,\n",
        "    patience=3,\n",
        "    device=device\n",
        ")\n",
        "end_time = time.time()\n",
        "print(f\"Baseline CTC Training time: {end_time - start_time} seconds\")"
      ],
      "metadata": {
        "colab": {
          "base_uri": "https://localhost:8080/"
        },
        "id": "QDjqGXDa9QaN",
        "outputId": "d0113ad3-70a2-46a5-80d8-4fe1f0408d67"
      },
      "execution_count": 26,
      "outputs": [
        {
          "output_type": "stream",
          "name": "stdout",
          "text": [
            "\n",
            "Epoch 1/100\n"
          ]
        },
        {
          "output_type": "stream",
          "name": "stderr",
          "text": []
        },
        {
          "output_type": "stream",
          "name": "stdout",
          "text": [
            "[CTC] Epoch 1: Train Loss=110.1601, WER=1.0215, CER=1.6329 | Val Loss=108.4585, WER=1.0000, CER=1.7168\n",
            "\n",
            "Epoch 2/100\n"
          ]
        },
        {
          "output_type": "stream",
          "name": "stderr",
          "text": []
        },
        {
          "output_type": "stream",
          "name": "stdout",
          "text": [
            "[CTC] Epoch 2: Train Loss=110.0444, WER=1.0000, CER=1.6547 | Val Loss=108.2540, WER=1.0000, CER=1.7168\n",
            "\n",
            "Epoch 3/100\n"
          ]
        },
        {
          "output_type": "stream",
          "name": "stderr",
          "text": []
        },
        {
          "output_type": "stream",
          "name": "stdout",
          "text": [
            "[CTC] Epoch 3: Train Loss=109.5049, WER=1.0091, CER=1.6777 | Val Loss=108.0189, WER=1.0000, CER=1.7169\n",
            "\n",
            "Epoch 4/100\n"
          ]
        },
        {
          "output_type": "stream",
          "name": "stderr",
          "text": []
        },
        {
          "output_type": "stream",
          "name": "stdout",
          "text": [
            "[CTC] Epoch 4: Train Loss=109.5961, WER=1.0152, CER=1.6107 | Val Loss=107.7454, WER=1.0000, CER=1.7172\n",
            "\n",
            "Epoch 5/100\n"
          ]
        },
        {
          "output_type": "stream",
          "name": "stderr",
          "text": []
        },
        {
          "output_type": "stream",
          "name": "stdout",
          "text": [
            "[CTC] Epoch 5: Train Loss=109.1426, WER=1.0076, CER=1.7186 | Val Loss=107.4167, WER=1.0000, CER=1.7181\n",
            "\n",
            "Epoch 6/100\n"
          ]
        },
        {
          "output_type": "stream",
          "name": "stderr",
          "text": []
        },
        {
          "output_type": "stream",
          "name": "stdout",
          "text": [
            "[CTC] Epoch 6: Train Loss=108.6925, WER=1.0065, CER=1.6654 | Val Loss=107.0281, WER=1.0000, CER=1.7179\n",
            "\n",
            "Epoch 7/100\n"
          ]
        },
        {
          "output_type": "stream",
          "name": "stderr",
          "text": []
        },
        {
          "output_type": "stream",
          "name": "stdout",
          "text": [
            "[CTC] Epoch 7: Train Loss=108.2868, WER=1.0182, CER=1.8855 | Val Loss=106.5803, WER=1.0000, CER=1.7189\n",
            "\n",
            "Epoch 8/100\n"
          ]
        },
        {
          "output_type": "stream",
          "name": "stderr",
          "text": []
        },
        {
          "output_type": "stream",
          "name": "stdout",
          "text": [
            "[CTC] Epoch 8: Train Loss=107.7580, WER=1.0465, CER=1.5995 | Val Loss=106.0702, WER=1.0000, CER=1.7202\n",
            "\n",
            "Epoch 9/100\n"
          ]
        },
        {
          "output_type": "stream",
          "name": "stderr",
          "text": []
        },
        {
          "output_type": "stream",
          "name": "stdout",
          "text": [
            "[CTC] Epoch 9: Train Loss=107.2886, WER=1.0000, CER=1.5602 | Val Loss=105.5047, WER=1.0000, CER=1.7203\n",
            "\n",
            "Epoch 10/100\n"
          ]
        },
        {
          "output_type": "stream",
          "name": "stderr",
          "text": []
        },
        {
          "output_type": "stream",
          "name": "stdout",
          "text": [
            "[CTC] Epoch 10: Train Loss=106.6293, WER=1.0000, CER=1.4893 | Val Loss=104.8894, WER=1.0000, CER=1.7217\n",
            "\n",
            "Epoch 11/100\n"
          ]
        },
        {
          "output_type": "stream",
          "name": "stderr",
          "text": []
        },
        {
          "output_type": "stream",
          "name": "stdout",
          "text": [
            "[CTC] Epoch 11: Train Loss=106.1341, WER=1.0000, CER=1.5118 | Val Loss=104.2305, WER=1.0000, CER=1.7226\n",
            "\n",
            "Epoch 12/100\n"
          ]
        },
        {
          "output_type": "stream",
          "name": "stderr",
          "text": []
        },
        {
          "output_type": "stream",
          "name": "stdout",
          "text": [
            "[CTC] Epoch 12: Train Loss=105.2434, WER=1.0000, CER=1.8127 | Val Loss=103.5196, WER=1.0000, CER=1.7238\n",
            "\n",
            "Epoch 13/100\n"
          ]
        },
        {
          "output_type": "stream",
          "name": "stderr",
          "text": []
        },
        {
          "output_type": "stream",
          "name": "stdout",
          "text": [
            "[CTC] Epoch 13: Train Loss=104.6181, WER=1.0000, CER=1.5138 | Val Loss=102.7654, WER=1.0000, CER=1.7286\n",
            "\n",
            "Epoch 14/100\n"
          ]
        },
        {
          "output_type": "stream",
          "name": "stderr",
          "text": []
        },
        {
          "output_type": "stream",
          "name": "stdout",
          "text": [
            "[CTC] Epoch 14: Train Loss=103.8326, WER=1.0000, CER=1.7891 | Val Loss=101.9523, WER=1.0000, CER=1.7293\n",
            "\n",
            "Epoch 15/100\n"
          ]
        },
        {
          "output_type": "stream",
          "name": "stderr",
          "text": []
        },
        {
          "output_type": "stream",
          "name": "stdout",
          "text": [
            "[CTC] Epoch 15: Train Loss=102.8811, WER=1.0000, CER=1.7014 | Val Loss=101.0728, WER=1.0000, CER=1.7296\n",
            "\n",
            "Epoch 16/100\n"
          ]
        },
        {
          "output_type": "stream",
          "name": "stderr",
          "text": []
        },
        {
          "output_type": "stream",
          "name": "stdout",
          "text": [
            "[CTC] Epoch 16: Train Loss=101.7925, WER=1.0000, CER=1.6321 | Val Loss=100.1250, WER=1.0000, CER=1.7299\n",
            "\n",
            "Epoch 17/100\n"
          ]
        },
        {
          "output_type": "stream",
          "name": "stderr",
          "text": []
        },
        {
          "output_type": "stream",
          "name": "stdout",
          "text": [
            "[CTC] Epoch 17: Train Loss=100.9735, WER=1.0000, CER=1.6237 | Val Loss=99.0956, WER=1.0000, CER=1.7301\n",
            "\n",
            "Epoch 18/100\n"
          ]
        },
        {
          "output_type": "stream",
          "name": "stderr",
          "text": []
        },
        {
          "output_type": "stream",
          "name": "stdout",
          "text": [
            "[CTC] Epoch 18: Train Loss=99.7974, WER=1.0000, CER=1.6820 | Val Loss=97.9695, WER=1.0000, CER=1.7302\n",
            "\n",
            "Epoch 19/100\n"
          ]
        },
        {
          "output_type": "stream",
          "name": "stderr",
          "text": []
        },
        {
          "output_type": "stream",
          "name": "stdout",
          "text": [
            "[CTC] Epoch 19: Train Loss=98.5285, WER=1.0000, CER=1.7068 | Val Loss=96.7234, WER=1.0000, CER=1.7302\n",
            "\n",
            "Epoch 20/100\n"
          ]
        },
        {
          "output_type": "stream",
          "name": "stderr",
          "text": []
        },
        {
          "output_type": "stream",
          "name": "stdout",
          "text": [
            "[CTC] Epoch 20: Train Loss=97.3299, WER=1.0000, CER=1.5946 | Val Loss=95.3607, WER=1.0000, CER=1.7302\n",
            "\n",
            "Epoch 21/100\n"
          ]
        },
        {
          "output_type": "stream",
          "name": "stderr",
          "text": []
        },
        {
          "output_type": "stream",
          "name": "stdout",
          "text": [
            "[CTC] Epoch 21: Train Loss=95.7368, WER=1.0000, CER=1.8147 | Val Loss=93.8334, WER=1.0000, CER=1.7302\n",
            "\n",
            "Epoch 22/100\n"
          ]
        },
        {
          "output_type": "stream",
          "name": "stderr",
          "text": []
        },
        {
          "output_type": "stream",
          "name": "stdout",
          "text": [
            "[CTC] Epoch 22: Train Loss=94.0178, WER=1.0000, CER=1.6442 | Val Loss=92.1281, WER=1.0000, CER=1.7302\n",
            "\n",
            "Epoch 23/100\n"
          ]
        },
        {
          "output_type": "stream",
          "name": "stderr",
          "text": []
        },
        {
          "output_type": "stream",
          "name": "stdout",
          "text": [
            "[CTC] Epoch 23: Train Loss=92.3578, WER=1.0000, CER=1.6224 | Val Loss=90.2283, WER=1.0000, CER=1.7302\n",
            "\n",
            "Epoch 24/100\n"
          ]
        },
        {
          "output_type": "stream",
          "name": "stderr",
          "text": []
        },
        {
          "output_type": "stream",
          "name": "stdout",
          "text": [
            "[CTC] Epoch 24: Train Loss=90.1730, WER=1.0000, CER=1.5848 | Val Loss=88.0821, WER=1.0000, CER=1.7302\n",
            "\n",
            "Epoch 25/100\n"
          ]
        },
        {
          "output_type": "stream",
          "name": "stderr",
          "text": []
        },
        {
          "output_type": "stream",
          "name": "stdout",
          "text": [
            "[CTC] Epoch 25: Train Loss=87.7890, WER=1.0000, CER=1.8254 | Val Loss=85.6409, WER=1.0000, CER=1.7302\n",
            "\n",
            "Epoch 26/100\n"
          ]
        },
        {
          "output_type": "stream",
          "name": "stderr",
          "text": []
        },
        {
          "output_type": "stream",
          "name": "stdout",
          "text": [
            "[CTC] Epoch 26: Train Loss=85.1025, WER=1.0000, CER=1.5010 | Val Loss=82.8416, WER=1.0000, CER=1.7302\n",
            "\n",
            "Epoch 27/100\n"
          ]
        },
        {
          "output_type": "stream",
          "name": "stderr",
          "text": []
        },
        {
          "output_type": "stream",
          "name": "stdout",
          "text": [
            "[CTC] Epoch 27: Train Loss=82.0328, WER=1.0000, CER=1.6727 | Val Loss=79.6599, WER=1.0000, CER=1.7302\n",
            "\n",
            "Epoch 28/100\n"
          ]
        },
        {
          "output_type": "stream",
          "name": "stderr",
          "text": []
        },
        {
          "output_type": "stream",
          "name": "stdout",
          "text": [
            "[CTC] Epoch 28: Train Loss=78.3768, WER=1.0000, CER=1.6030 | Val Loss=76.0000, WER=1.0000, CER=1.7302\n",
            "\n",
            "Epoch 29/100\n"
          ]
        },
        {
          "output_type": "stream",
          "name": "stderr",
          "text": []
        },
        {
          "output_type": "stream",
          "name": "stdout",
          "text": [
            "[CTC] Epoch 29: Train Loss=74.4356, WER=1.0000, CER=1.6337 | Val Loss=71.7736, WER=1.0000, CER=1.7302\n",
            "\n",
            "Epoch 30/100\n"
          ]
        },
        {
          "output_type": "stream",
          "name": "stderr",
          "text": []
        },
        {
          "output_type": "stream",
          "name": "stdout",
          "text": [
            "[CTC] Epoch 30: Train Loss=69.5388, WER=1.0000, CER=1.5934 | Val Loss=66.8863, WER=1.0000, CER=1.7302\n",
            "\n",
            "Epoch 31/100\n"
          ]
        },
        {
          "output_type": "stream",
          "name": "stderr",
          "text": []
        },
        {
          "output_type": "stream",
          "name": "stdout",
          "text": [
            "[CTC] Epoch 31: Train Loss=64.1785, WER=1.0000, CER=1.5568 | Val Loss=61.3371, WER=1.0000, CER=1.7302\n",
            "\n",
            "Epoch 32/100\n"
          ]
        },
        {
          "output_type": "stream",
          "name": "stderr",
          "text": []
        },
        {
          "output_type": "stream",
          "name": "stdout",
          "text": [
            "[CTC] Epoch 32: Train Loss=58.1015, WER=1.0000, CER=1.6941 | Val Loss=55.0235, WER=1.0000, CER=1.7302\n",
            "\n",
            "Epoch 33/100\n"
          ]
        },
        {
          "output_type": "stream",
          "name": "stderr",
          "text": []
        },
        {
          "output_type": "stream",
          "name": "stdout",
          "text": [
            "[CTC] Epoch 33: Train Loss=51.1985, WER=1.0000, CER=1.8079 | Val Loss=48.0702, WER=1.0000, CER=1.7302\n",
            "\n",
            "Epoch 34/100\n"
          ]
        },
        {
          "output_type": "stream",
          "name": "stderr",
          "text": []
        },
        {
          "output_type": "stream",
          "name": "stdout",
          "text": [
            "[CTC] Epoch 34: Train Loss=43.8248, WER=1.0000, CER=1.5610 | Val Loss=40.6035, WER=1.0000, CER=1.7302\n",
            "\n",
            "Epoch 35/100\n"
          ]
        },
        {
          "output_type": "stream",
          "name": "stderr",
          "text": []
        },
        {
          "output_type": "stream",
          "name": "stdout",
          "text": [
            "[CTC] Epoch 35: Train Loss=36.1645, WER=1.0000, CER=1.4001 | Val Loss=33.2264, WER=1.0000, CER=1.7302\n",
            "\n",
            "Epoch 36/100\n"
          ]
        },
        {
          "output_type": "stream",
          "name": "stderr",
          "text": []
        },
        {
          "output_type": "stream",
          "name": "stdout",
          "text": [
            "[CTC] Epoch 36: Train Loss=28.9432, WER=1.0000, CER=1.6918 | Val Loss=26.3889, WER=1.0000, CER=1.7302\n",
            "\n",
            "Epoch 37/100\n"
          ]
        },
        {
          "output_type": "stream",
          "name": "stderr",
          "text": []
        },
        {
          "output_type": "stream",
          "name": "stdout",
          "text": [
            "[CTC] Epoch 37: Train Loss=22.6904, WER=1.0000, CER=1.8408 | Val Loss=20.6428, WER=1.0000, CER=1.7302\n",
            "\n",
            "Epoch 38/100\n"
          ]
        },
        {
          "output_type": "stream",
          "name": "stderr",
          "text": []
        },
        {
          "output_type": "stream",
          "name": "stdout",
          "text": [
            "[CTC] Epoch 38: Train Loss=17.6416, WER=1.0000, CER=1.7436 | Val Loss=16.2047, WER=1.0000, CER=1.7302\n",
            "\n",
            "Epoch 39/100\n"
          ]
        },
        {
          "output_type": "stream",
          "name": "stderr",
          "text": []
        },
        {
          "output_type": "stream",
          "name": "stdout",
          "text": [
            "[CTC] Epoch 39: Train Loss=13.9345, WER=1.0000, CER=1.7961 | Val Loss=12.9464, WER=1.0000, CER=1.7302\n",
            "\n",
            "Epoch 40/100\n"
          ]
        },
        {
          "output_type": "stream",
          "name": "stderr",
          "text": []
        },
        {
          "output_type": "stream",
          "name": "stdout",
          "text": [
            "[CTC] Epoch 40: Train Loss=11.2668, WER=1.0000, CER=1.9162 | Val Loss=10.6769, WER=1.0000, CER=1.7302\n",
            "\n",
            "Epoch 41/100\n"
          ]
        },
        {
          "output_type": "stream",
          "name": "stderr",
          "text": []
        },
        {
          "output_type": "stream",
          "name": "stdout",
          "text": [
            "[CTC] Epoch 41: Train Loss=9.4214, WER=1.0000, CER=1.8310 | Val Loss=9.0877, WER=1.0000, CER=1.7302\n",
            "\n",
            "Epoch 42/100\n"
          ]
        },
        {
          "output_type": "stream",
          "name": "stderr",
          "text": []
        },
        {
          "output_type": "stream",
          "name": "stdout",
          "text": [
            "[CTC] Epoch 42: Train Loss=8.1388, WER=1.0000, CER=1.6082 | Val Loss=7.9592, WER=1.0000, CER=1.7302\n",
            "\n",
            "Epoch 43/100\n"
          ]
        },
        {
          "output_type": "stream",
          "name": "stderr",
          "text": []
        },
        {
          "output_type": "stream",
          "name": "stdout",
          "text": [
            "[CTC] Epoch 43: Train Loss=7.2300, WER=1.0000, CER=1.7594 | Val Loss=7.1411, WER=1.0000, CER=1.7302\n",
            "\n",
            "Epoch 44/100\n"
          ]
        },
        {
          "output_type": "stream",
          "name": "stderr",
          "text": []
        },
        {
          "output_type": "stream",
          "name": "stdout",
          "text": [
            "[CTC] Epoch 44: Train Loss=6.5627, WER=1.0000, CER=1.6244 | Val Loss=6.5287, WER=1.0000, CER=1.7302\n",
            "\n",
            "Epoch 45/100\n"
          ]
        },
        {
          "output_type": "stream",
          "name": "stderr",
          "text": []
        },
        {
          "output_type": "stream",
          "name": "stdout",
          "text": [
            "[CTC] Epoch 45: Train Loss=6.0431, WER=1.0000, CER=1.7227 | Val Loss=6.0656, WER=1.0000, CER=1.7302\n",
            "\n",
            "Epoch 46/100\n"
          ]
        },
        {
          "output_type": "stream",
          "name": "stderr",
          "text": []
        },
        {
          "output_type": "stream",
          "name": "stdout",
          "text": [
            "[CTC] Epoch 46: Train Loss=5.6651, WER=1.0000, CER=1.6538 | Val Loss=5.6990, WER=1.0000, CER=1.7302\n",
            "\n",
            "Epoch 47/100\n"
          ]
        },
        {
          "output_type": "stream",
          "name": "stderr",
          "text": []
        },
        {
          "output_type": "stream",
          "name": "stdout",
          "text": [
            "[CTC] Epoch 47: Train Loss=5.3591, WER=1.0000, CER=1.5808 | Val Loss=5.4100, WER=1.0000, CER=1.7302\n",
            "\n",
            "Epoch 48/100\n"
          ]
        },
        {
          "output_type": "stream",
          "name": "stderr",
          "text": []
        },
        {
          "output_type": "stream",
          "name": "stdout",
          "text": [
            "[CTC] Epoch 48: Train Loss=5.1110, WER=1.0000, CER=1.8796 | Val Loss=5.1782, WER=1.0000, CER=1.7302\n",
            "\n",
            "Epoch 49/100\n"
          ]
        },
        {
          "output_type": "stream",
          "name": "stderr",
          "text": []
        },
        {
          "output_type": "stream",
          "name": "stdout",
          "text": [
            "[CTC] Epoch 49: Train Loss=4.9212, WER=1.0000, CER=1.5787 | Val Loss=4.9875, WER=1.0000, CER=1.7302\n",
            "\n",
            "Epoch 50/100\n"
          ]
        },
        {
          "output_type": "stream",
          "name": "stderr",
          "text": []
        },
        {
          "output_type": "stream",
          "name": "stdout",
          "text": [
            "[CTC] Epoch 50: Train Loss=4.7558, WER=1.0000, CER=1.6554 | Val Loss=4.8285, WER=1.0000, CER=1.7302\n",
            "\n",
            "Epoch 51/100\n"
          ]
        },
        {
          "output_type": "stream",
          "name": "stderr",
          "text": []
        },
        {
          "output_type": "stream",
          "name": "stdout",
          "text": [
            "[CTC] Epoch 51: Train Loss=4.6210, WER=1.0000, CER=1.7527 | Val Loss=4.6982, WER=1.0000, CER=1.7302\n",
            "\n",
            "Epoch 52/100\n"
          ]
        },
        {
          "output_type": "stream",
          "name": "stderr",
          "text": []
        },
        {
          "output_type": "stream",
          "name": "stdout",
          "text": [
            "[CTC] Epoch 52: Train Loss=4.5117, WER=1.0000, CER=1.6725 | Val Loss=4.5857, WER=1.0000, CER=1.7302\n",
            "\n",
            "Epoch 53/100\n"
          ]
        },
        {
          "output_type": "stream",
          "name": "stderr",
          "text": []
        },
        {
          "output_type": "stream",
          "name": "stdout",
          "text": [
            "[CTC] Epoch 53: Train Loss=4.4160, WER=1.0000, CER=1.6621 | Val Loss=4.4913, WER=1.0000, CER=1.7302\n",
            "\n",
            "Epoch 54/100\n"
          ]
        },
        {
          "output_type": "stream",
          "name": "stderr",
          "text": []
        },
        {
          "output_type": "stream",
          "name": "stdout",
          "text": [
            "[CTC] Epoch 54: Train Loss=4.3360, WER=1.0000, CER=1.6708 | Val Loss=4.4101, WER=1.0000, CER=1.7302\n",
            "\n",
            "Epoch 55/100\n"
          ]
        },
        {
          "output_type": "stream",
          "name": "stderr",
          "text": []
        },
        {
          "output_type": "stream",
          "name": "stdout",
          "text": [
            "[CTC] Epoch 55: Train Loss=4.2667, WER=1.0000, CER=1.5759 | Val Loss=4.3397, WER=1.0000, CER=1.7302\n",
            "\n",
            "Epoch 56/100\n"
          ]
        },
        {
          "output_type": "stream",
          "name": "stderr",
          "text": []
        },
        {
          "output_type": "stream",
          "name": "stdout",
          "text": [
            "[CTC] Epoch 56: Train Loss=4.2080, WER=1.0000, CER=1.6029 | Val Loss=4.2803, WER=1.0000, CER=1.7302\n",
            "\n",
            "Epoch 57/100\n"
          ]
        },
        {
          "output_type": "stream",
          "name": "stderr",
          "text": []
        },
        {
          "output_type": "stream",
          "name": "stdout",
          "text": [
            "[CTC] Epoch 57: Train Loss=4.1559, WER=1.0000, CER=1.5855 | Val Loss=4.2277, WER=1.0000, CER=1.7302\n",
            "\n",
            "Epoch 58/100\n"
          ]
        },
        {
          "output_type": "stream",
          "name": "stderr",
          "text": []
        },
        {
          "output_type": "stream",
          "name": "stdout",
          "text": [
            "[CTC] Epoch 58: Train Loss=4.1115, WER=1.0000, CER=1.5862 | Val Loss=4.1829, WER=1.0000, CER=1.7302\n",
            "\n",
            "Epoch 59/100\n"
          ]
        },
        {
          "output_type": "stream",
          "name": "stderr",
          "text": []
        },
        {
          "output_type": "stream",
          "name": "stdout",
          "text": [
            "[CTC] Epoch 59: Train Loss=4.0725, WER=1.0000, CER=1.4179 | Val Loss=4.1429, WER=1.0000, CER=1.7302\n",
            "\n",
            "Epoch 60/100\n"
          ]
        },
        {
          "output_type": "stream",
          "name": "stderr",
          "text": []
        },
        {
          "output_type": "stream",
          "name": "stdout",
          "text": [
            "[CTC] Epoch 60: Train Loss=4.0381, WER=1.0000, CER=1.9671 | Val Loss=4.1077, WER=1.0000, CER=1.7302\n",
            "\n",
            "Epoch 61/100\n"
          ]
        },
        {
          "output_type": "stream",
          "name": "stderr",
          "text": []
        },
        {
          "output_type": "stream",
          "name": "stdout",
          "text": [
            "[CTC] Epoch 61: Train Loss=4.0099, WER=1.0000, CER=1.4610 | Val Loss=4.0771, WER=1.0000, CER=1.7302\n",
            "\n",
            "Epoch 62/100\n"
          ]
        },
        {
          "output_type": "stream",
          "name": "stderr",
          "text": []
        },
        {
          "output_type": "stream",
          "name": "stdout",
          "text": [
            "[CTC] Epoch 62: Train Loss=3.9848, WER=1.0000, CER=1.8766 | Val Loss=4.0502, WER=1.0000, CER=1.7302\n",
            "\n",
            "Epoch 63/100\n"
          ]
        },
        {
          "output_type": "stream",
          "name": "stderr",
          "text": []
        },
        {
          "output_type": "stream",
          "name": "stdout",
          "text": [
            "[CTC] Epoch 63: Train Loss=3.9607, WER=1.0000, CER=1.7506 | Val Loss=4.0259, WER=1.0000, CER=1.7302\n",
            "\n",
            "Epoch 64/100\n"
          ]
        },
        {
          "output_type": "stream",
          "name": "stderr",
          "text": []
        },
        {
          "output_type": "stream",
          "name": "stdout",
          "text": [
            "[CTC] Epoch 64: Train Loss=3.9411, WER=1.0000, CER=1.7690 | Val Loss=4.0044, WER=1.0000, CER=1.7302\n",
            "\n",
            "Epoch 65/100\n"
          ]
        },
        {
          "output_type": "stream",
          "name": "stderr",
          "text": []
        },
        {
          "output_type": "stream",
          "name": "stdout",
          "text": [
            "[CTC] Epoch 65: Train Loss=3.9225, WER=1.0000, CER=1.6047 | Val Loss=3.9850, WER=1.0000, CER=1.7302\n",
            "\n",
            "Epoch 66/100\n"
          ]
        },
        {
          "output_type": "stream",
          "name": "stderr",
          "text": []
        },
        {
          "output_type": "stream",
          "name": "stdout",
          "text": [
            "[CTC] Epoch 66: Train Loss=3.9065, WER=1.0000, CER=1.7272 | Val Loss=3.9682, WER=1.0000, CER=1.7302\n",
            "\n",
            "Epoch 67/100\n"
          ]
        },
        {
          "output_type": "stream",
          "name": "stderr",
          "text": []
        },
        {
          "output_type": "stream",
          "name": "stdout",
          "text": [
            "[CTC] Epoch 67: Train Loss=3.8916, WER=1.0000, CER=1.6469 | Val Loss=3.9528, WER=1.0000, CER=1.7302\n",
            "\n",
            "Epoch 68/100\n"
          ]
        },
        {
          "output_type": "stream",
          "name": "stderr",
          "text": []
        },
        {
          "output_type": "stream",
          "name": "stdout",
          "text": [
            "[CTC] Epoch 68: Train Loss=3.8787, WER=1.0000, CER=1.6281 | Val Loss=3.9387, WER=1.0000, CER=1.7302\n",
            "\n",
            "Epoch 69/100\n"
          ]
        },
        {
          "output_type": "stream",
          "name": "stderr",
          "text": []
        },
        {
          "output_type": "stream",
          "name": "stdout",
          "text": [
            "[CTC] Epoch 69: Train Loss=3.8673, WER=1.0000, CER=1.5713 | Val Loss=3.9260, WER=1.0000, CER=1.7302\n",
            "\n",
            "Epoch 70/100\n"
          ]
        },
        {
          "output_type": "stream",
          "name": "stderr",
          "text": []
        },
        {
          "output_type": "stream",
          "name": "stdout",
          "text": [
            "[CTC] Epoch 70: Train Loss=3.8583, WER=1.0000, CER=1.4173 | Val Loss=3.9147, WER=1.0000, CER=1.7302\n",
            "\n",
            "Epoch 71/100\n"
          ]
        },
        {
          "output_type": "stream",
          "name": "stderr",
          "text": []
        },
        {
          "output_type": "stream",
          "name": "stdout",
          "text": [
            "[CTC] Epoch 71: Train Loss=3.8463, WER=1.0000, CER=1.6790 | Val Loss=3.9040, WER=1.0000, CER=1.7302\n",
            "\n",
            "Epoch 72/100\n"
          ]
        },
        {
          "output_type": "stream",
          "name": "stderr",
          "text": []
        },
        {
          "output_type": "stream",
          "name": "stdout",
          "text": [
            "[CTC] Epoch 72: Train Loss=3.8368, WER=1.0000, CER=1.9089 | Val Loss=3.8944, WER=1.0000, CER=1.7302\n",
            "\n",
            "Epoch 73/100\n"
          ]
        },
        {
          "output_type": "stream",
          "name": "stderr",
          "text": []
        },
        {
          "output_type": "stream",
          "name": "stdout",
          "text": [
            "[CTC] Epoch 73: Train Loss=3.8295, WER=1.0000, CER=1.8021 | Val Loss=3.8856, WER=1.0000, CER=1.7302\n",
            "\n",
            "Epoch 74/100\n"
          ]
        },
        {
          "output_type": "stream",
          "name": "stderr",
          "text": []
        },
        {
          "output_type": "stream",
          "name": "stdout",
          "text": [
            "[CTC] Epoch 74: Train Loss=3.8212, WER=1.0000, CER=1.6520 | Val Loss=3.8773, WER=1.0000, CER=1.7302\n",
            "\n",
            "Epoch 75/100\n"
          ]
        },
        {
          "output_type": "stream",
          "name": "stderr",
          "text": []
        },
        {
          "output_type": "stream",
          "name": "stdout",
          "text": [
            "[CTC] Epoch 75: Train Loss=3.8139, WER=1.0000, CER=1.6132 | Val Loss=3.8695, WER=1.0000, CER=1.7302\n",
            "\n",
            "Epoch 76/100\n"
          ]
        },
        {
          "output_type": "stream",
          "name": "stderr",
          "text": []
        },
        {
          "output_type": "stream",
          "name": "stdout",
          "text": [
            "[CTC] Epoch 76: Train Loss=3.8073, WER=1.0000, CER=1.7750 | Val Loss=3.8625, WER=1.0000, CER=1.7302\n",
            "\n",
            "Epoch 77/100\n"
          ]
        },
        {
          "output_type": "stream",
          "name": "stderr",
          "text": []
        },
        {
          "output_type": "stream",
          "name": "stdout",
          "text": [
            "[CTC] Epoch 77: Train Loss=3.8012, WER=1.0000, CER=1.6789 | Val Loss=3.8557, WER=1.0000, CER=1.7302\n",
            "\n",
            "Epoch 78/100\n"
          ]
        },
        {
          "output_type": "stream",
          "name": "stderr",
          "text": []
        },
        {
          "output_type": "stream",
          "name": "stdout",
          "text": [
            "[CTC] Epoch 78: Train Loss=3.7946, WER=1.0000, CER=1.8515 | Val Loss=3.8491, WER=1.0000, CER=1.7302\n",
            "\n",
            "Epoch 79/100\n"
          ]
        },
        {
          "output_type": "stream",
          "name": "stderr",
          "text": []
        },
        {
          "output_type": "stream",
          "name": "stdout",
          "text": [
            "[CTC] Epoch 79: Train Loss=3.7891, WER=1.0000, CER=1.7377 | Val Loss=3.8432, WER=1.0000, CER=1.7302\n",
            "\n",
            "Epoch 80/100\n"
          ]
        },
        {
          "output_type": "stream",
          "name": "stderr",
          "text": []
        },
        {
          "output_type": "stream",
          "name": "stdout",
          "text": [
            "[CTC] Epoch 80: Train Loss=3.7839, WER=1.0000, CER=1.6441 | Val Loss=3.8373, WER=1.0000, CER=1.7302\n",
            "\n",
            "Epoch 81/100\n"
          ]
        },
        {
          "output_type": "stream",
          "name": "stderr",
          "text": []
        },
        {
          "output_type": "stream",
          "name": "stdout",
          "text": [
            "[CTC] Epoch 81: Train Loss=3.7787, WER=1.0000, CER=1.6554 | Val Loss=3.8318, WER=1.0000, CER=1.7302\n",
            "\n",
            "Epoch 82/100\n"
          ]
        },
        {
          "output_type": "stream",
          "name": "stderr",
          "text": []
        },
        {
          "output_type": "stream",
          "name": "stdout",
          "text": [
            "[CTC] Epoch 82: Train Loss=3.7728, WER=1.0000, CER=1.5725 | Val Loss=3.8265, WER=1.0000, CER=1.7302\n",
            "\n",
            "Epoch 83/100\n"
          ]
        },
        {
          "output_type": "stream",
          "name": "stderr",
          "text": []
        },
        {
          "output_type": "stream",
          "name": "stdout",
          "text": [
            "[CTC] Epoch 83: Train Loss=3.7677, WER=1.0000, CER=1.5693 | Val Loss=3.8214, WER=1.0000, CER=1.7302\n",
            "\n",
            "Epoch 84/100\n"
          ]
        },
        {
          "output_type": "stream",
          "name": "stderr",
          "text": []
        },
        {
          "output_type": "stream",
          "name": "stdout",
          "text": [
            "[CTC] Epoch 84: Train Loss=3.7626, WER=1.0000, CER=1.4989 | Val Loss=3.8166, WER=1.0000, CER=1.7302\n",
            "\n",
            "Epoch 85/100\n"
          ]
        },
        {
          "output_type": "stream",
          "name": "stderr",
          "text": []
        },
        {
          "output_type": "stream",
          "name": "stdout",
          "text": [
            "[CTC] Epoch 85: Train Loss=3.7589, WER=1.0000, CER=1.7744 | Val Loss=3.8118, WER=1.0000, CER=1.7302\n",
            "\n",
            "Epoch 86/100\n"
          ]
        },
        {
          "output_type": "stream",
          "name": "stderr",
          "text": []
        },
        {
          "output_type": "stream",
          "name": "stdout",
          "text": [
            "[CTC] Epoch 86: Train Loss=3.7543, WER=1.0000, CER=1.7651 | Val Loss=3.8070, WER=1.0000, CER=1.7302\n",
            "\n",
            "Epoch 87/100\n"
          ]
        },
        {
          "output_type": "stream",
          "name": "stderr",
          "text": []
        },
        {
          "output_type": "stream",
          "name": "stdout",
          "text": [
            "[CTC] Epoch 87: Train Loss=3.7493, WER=1.0000, CER=1.9121 | Val Loss=3.8026, WER=1.0000, CER=1.7302\n",
            "\n",
            "Epoch 88/100\n"
          ]
        },
        {
          "output_type": "stream",
          "name": "stderr",
          "text": []
        },
        {
          "output_type": "stream",
          "name": "stdout",
          "text": [
            "[CTC] Epoch 88: Train Loss=3.7447, WER=1.0000, CER=1.6051 | Val Loss=3.7981, WER=1.0000, CER=1.7302\n",
            "\n",
            "Epoch 89/100\n"
          ]
        },
        {
          "output_type": "stream",
          "name": "stderr",
          "text": []
        },
        {
          "output_type": "stream",
          "name": "stdout",
          "text": [
            "[CTC] Epoch 89: Train Loss=3.7411, WER=1.0000, CER=1.6497 | Val Loss=3.7939, WER=1.0000, CER=1.7302\n",
            "\n",
            "Epoch 90/100\n"
          ]
        },
        {
          "output_type": "stream",
          "name": "stderr",
          "text": []
        },
        {
          "output_type": "stream",
          "name": "stdout",
          "text": [
            "[CTC] Epoch 90: Train Loss=3.7359, WER=1.0000, CER=1.6134 | Val Loss=3.7897, WER=1.0000, CER=1.7302\n",
            "\n",
            "Epoch 91/100\n"
          ]
        },
        {
          "output_type": "stream",
          "name": "stderr",
          "text": []
        },
        {
          "output_type": "stream",
          "name": "stdout",
          "text": [
            "[CTC] Epoch 91: Train Loss=3.7315, WER=1.0000, CER=1.6831 | Val Loss=3.7856, WER=1.0000, CER=1.7302\n",
            "\n",
            "Epoch 92/100\n"
          ]
        },
        {
          "output_type": "stream",
          "name": "stderr",
          "text": []
        },
        {
          "output_type": "stream",
          "name": "stdout",
          "text": [
            "[CTC] Epoch 92: Train Loss=3.7278, WER=1.0000, CER=1.6671 | Val Loss=3.7815, WER=1.0000, CER=1.7302\n",
            "\n",
            "Epoch 93/100\n"
          ]
        },
        {
          "output_type": "stream",
          "name": "stderr",
          "text": []
        },
        {
          "output_type": "stream",
          "name": "stdout",
          "text": [
            "[CTC] Epoch 93: Train Loss=3.7237, WER=1.0000, CER=1.6310 | Val Loss=3.7776, WER=1.0000, CER=1.7302\n",
            "\n",
            "Epoch 94/100\n"
          ]
        },
        {
          "output_type": "stream",
          "name": "stderr",
          "text": []
        },
        {
          "output_type": "stream",
          "name": "stdout",
          "text": [
            "[CTC] Epoch 94: Train Loss=3.7194, WER=1.0000, CER=1.7811 | Val Loss=3.7737, WER=1.0000, CER=1.7302\n",
            "\n",
            "Epoch 95/100\n"
          ]
        },
        {
          "output_type": "stream",
          "name": "stderr",
          "text": []
        },
        {
          "output_type": "stream",
          "name": "stdout",
          "text": [
            "[CTC] Epoch 95: Train Loss=3.7150, WER=1.0000, CER=1.6309 | Val Loss=3.7698, WER=1.0000, CER=1.7302\n",
            "\n",
            "Epoch 96/100\n"
          ]
        },
        {
          "output_type": "stream",
          "name": "stderr",
          "text": []
        },
        {
          "output_type": "stream",
          "name": "stdout",
          "text": [
            "[CTC] Epoch 96: Train Loss=3.7109, WER=1.0000, CER=1.5865 | Val Loss=3.7661, WER=1.0000, CER=1.7302\n",
            "\n",
            "Epoch 97/100\n"
          ]
        },
        {
          "output_type": "stream",
          "name": "stderr",
          "text": []
        },
        {
          "output_type": "stream",
          "name": "stdout",
          "text": [
            "[CTC] Epoch 97: Train Loss=3.7079, WER=1.0000, CER=1.7194 | Val Loss=3.7623, WER=1.0000, CER=1.7302\n",
            "\n",
            "Epoch 98/100\n"
          ]
        },
        {
          "output_type": "stream",
          "name": "stderr",
          "text": []
        },
        {
          "output_type": "stream",
          "name": "stdout",
          "text": [
            "[CTC] Epoch 98: Train Loss=3.7040, WER=1.0000, CER=1.5579 | Val Loss=3.7587, WER=1.0000, CER=1.7302\n",
            "\n",
            "Epoch 99/100\n"
          ]
        },
        {
          "output_type": "stream",
          "name": "stderr",
          "text": []
        },
        {
          "output_type": "stream",
          "name": "stdout",
          "text": [
            "[CTC] Epoch 99: Train Loss=3.7002, WER=1.0000, CER=1.6479 | Val Loss=3.7550, WER=1.0000, CER=1.7302\n",
            "\n",
            "Epoch 100/100\n"
          ]
        },
        {
          "output_type": "stream",
          "name": "stderr",
          "text": [
            "                                                                                     "
          ]
        },
        {
          "output_type": "stream",
          "name": "stdout",
          "text": [
            "[CTC] Epoch 100: Train Loss=3.6964, WER=1.0000, CER=1.7554 | Val Loss=3.7515, WER=1.0000, CER=1.7302\n",
            "Baseline CTC Training time: 7995.719420194626 seconds\n"
          ]
        },
        {
          "output_type": "stream",
          "name": "stderr",
          "text": [
            "\r"
          ]
        }
      ]
    },
    {
      "cell_type": "code",
      "source": [
        "import time\n",
        "\n",
        "# Train RNN-T model\n",
        "model_rnnt = RNNTModel()\n",
        "optimizer_rnnt = torch.optim.Adam(model_rnnt.parameters(), lr=1e-5)\n",
        "loss_fn_rnnt = nn.CTCLoss(blank=char_to_index['|'], zero_infinity=True)\n",
        "device = get_device()\n",
        "\n",
        "start_time = time.time()\n",
        "rnnt_train_loss, rnnt_val_loss, rnnt_train_wer, rnnt_val_wer, rnnt_train_cer, rnnt_val_cer = train_rnnt(\n",
        "    model=model_rnnt,\n",
        "    train_loader=train_loader,\n",
        "    val_loader=val_loader,\n",
        "    optimizer=optimizer_rnnt,\n",
        "    loss_fn=loss_fn_rnnt,\n",
        "    index_to_char=index_to_char,\n",
        "    epochs=100,\n",
        "    patience=3,\n",
        "    device=device\n",
        ")\n",
        "end_time = time.time()\n",
        "print(f\"Baseline RNN-T Training time: {end_time - start_time} seconds\")"
      ],
      "metadata": {
        "colab": {
          "base_uri": "https://localhost:8080/"
        },
        "id": "BOs1T3K29QQ1",
        "outputId": "029302c0-6b1b-46a3-c8e5-0455621e4c55"
      },
      "execution_count": 28,
      "outputs": [
        {
          "output_type": "stream",
          "name": "stderr",
          "text": [
            "Epoch 1 - Training (RNN-T): 100%|██████████| 11/11 [00:10<00:00,  1.07it/s]\n",
            "Epoch 1 - Validation (RNN-T): 100%|██████████| 2/2 [00:01<00:00,  1.57it/s]\n"
          ]
        },
        {
          "output_type": "stream",
          "name": "stdout",
          "text": [
            "[RNN-T] Epoch 1: Train Loss=39.7032, WER=1.0000, CER=0.9861 | Val Loss=36.9969, WER=1.0000, CER=0.9815\n"
          ]
        },
        {
          "output_type": "stream",
          "name": "stderr",
          "text": [
            "Epoch 2 - Training (RNN-T): 100%|██████████| 11/11 [00:09<00:00,  1.11it/s]\n",
            "Epoch 2 - Validation (RNN-T): 100%|██████████| 2/2 [00:01<00:00,  1.57it/s]\n"
          ]
        },
        {
          "output_type": "stream",
          "name": "stdout",
          "text": [
            "[RNN-T] Epoch 2: Train Loss=37.9277, WER=1.0000, CER=0.9844 | Val Loss=36.8858, WER=1.0000, CER=0.9815\n"
          ]
        },
        {
          "output_type": "stream",
          "name": "stderr",
          "text": [
            "Epoch 3 - Training (RNN-T): 100%|██████████| 11/11 [00:09<00:00,  1.14it/s]\n",
            "Epoch 3 - Validation (RNN-T): 100%|██████████| 2/2 [00:01<00:00,  1.59it/s]\n"
          ]
        },
        {
          "output_type": "stream",
          "name": "stdout",
          "text": [
            "[RNN-T] Epoch 3: Train Loss=37.1638, WER=1.0000, CER=0.9861 | Val Loss=36.7705, WER=1.0000, CER=0.9815\n"
          ]
        },
        {
          "output_type": "stream",
          "name": "stderr",
          "text": [
            "Epoch 4 - Training (RNN-T): 100%|██████████| 11/11 [00:10<00:00,  1.04it/s]\n",
            "Epoch 4 - Validation (RNN-T): 100%|██████████| 2/2 [00:01<00:00,  1.56it/s]\n"
          ]
        },
        {
          "output_type": "stream",
          "name": "stdout",
          "text": [
            "[RNN-T] Epoch 4: Train Loss=40.8312, WER=1.0000, CER=0.9860 | Val Loss=36.6396, WER=1.0000, CER=0.9810\n"
          ]
        },
        {
          "output_type": "stream",
          "name": "stderr",
          "text": [
            "Epoch 5 - Training (RNN-T): 100%|██████████| 11/11 [00:10<00:00,  1.06it/s]\n",
            "Epoch 5 - Validation (RNN-T): 100%|██████████| 2/2 [00:01<00:00,  1.57it/s]\n"
          ]
        },
        {
          "output_type": "stream",
          "name": "stdout",
          "text": [
            "[RNN-T] Epoch 5: Train Loss=39.5598, WER=1.0000, CER=0.9866 | Val Loss=36.4952, WER=1.0000, CER=0.9806\n"
          ]
        },
        {
          "output_type": "stream",
          "name": "stderr",
          "text": [
            "Epoch 6 - Training (RNN-T): 100%|██████████| 11/11 [00:10<00:00,  1.09it/s]\n",
            "Epoch 6 - Validation (RNN-T): 100%|██████████| 2/2 [00:01<00:00,  1.60it/s]\n"
          ]
        },
        {
          "output_type": "stream",
          "name": "stdout",
          "text": [
            "[RNN-T] Epoch 6: Train Loss=38.7113, WER=1.0000, CER=0.9860 | Val Loss=36.3368, WER=1.0000, CER=0.9806\n"
          ]
        },
        {
          "output_type": "stream",
          "name": "stderr",
          "text": [
            "Epoch 7 - Training (RNN-T): 100%|██████████| 11/11 [00:09<00:00,  1.12it/s]\n",
            "Epoch 7 - Validation (RNN-T): 100%|██████████| 2/2 [00:01<00:00,  1.60it/s]\n"
          ]
        },
        {
          "output_type": "stream",
          "name": "stdout",
          "text": [
            "[RNN-T] Epoch 7: Train Loss=37.3078, WER=1.0000, CER=0.9860 | Val Loss=36.1642, WER=1.0000, CER=0.9806\n"
          ]
        },
        {
          "output_type": "stream",
          "name": "stderr",
          "text": [
            "Epoch 8 - Training (RNN-T): 100%|██████████| 11/11 [00:09<00:00,  1.13it/s]\n",
            "Epoch 8 - Validation (RNN-T): 100%|██████████| 2/2 [00:01<00:00,  1.53it/s]\n"
          ]
        },
        {
          "output_type": "stream",
          "name": "stdout",
          "text": [
            "[RNN-T] Epoch 8: Train Loss=36.7990, WER=1.0000, CER=0.9860 | Val Loss=35.9741, WER=1.0000, CER=0.9806\n"
          ]
        },
        {
          "output_type": "stream",
          "name": "stderr",
          "text": [
            "Epoch 9 - Training (RNN-T): 100%|██████████| 11/11 [00:10<00:00,  1.10it/s]\n",
            "Epoch 9 - Validation (RNN-T): 100%|██████████| 2/2 [00:01<00:00,  1.58it/s]\n"
          ]
        },
        {
          "output_type": "stream",
          "name": "stdout",
          "text": [
            "[RNN-T] Epoch 9: Train Loss=37.9160, WER=1.0000, CER=0.9865 | Val Loss=35.7588, WER=1.0000, CER=0.9813\n"
          ]
        },
        {
          "output_type": "stream",
          "name": "stderr",
          "text": [
            "Epoch 10 - Training (RNN-T): 100%|██████████| 11/11 [00:09<00:00,  1.16it/s]\n",
            "Epoch 10 - Validation (RNN-T): 100%|██████████| 2/2 [00:01<00:00,  1.55it/s]\n"
          ]
        },
        {
          "output_type": "stream",
          "name": "stdout",
          "text": [
            "[RNN-T] Epoch 10: Train Loss=34.5135, WER=1.0000, CER=0.9867 | Val Loss=35.5238, WER=1.0000, CER=0.9814\n"
          ]
        },
        {
          "output_type": "stream",
          "name": "stderr",
          "text": [
            "Epoch 11 - Training (RNN-T): 100%|██████████| 11/11 [00:09<00:00,  1.13it/s]\n",
            "Epoch 11 - Validation (RNN-T): 100%|██████████| 2/2 [00:01<00:00,  1.59it/s]\n"
          ]
        },
        {
          "output_type": "stream",
          "name": "stdout",
          "text": [
            "[RNN-T] Epoch 11: Train Loss=35.9501, WER=1.0000, CER=0.9845 | Val Loss=35.2775, WER=1.0000, CER=0.9814\n"
          ]
        },
        {
          "output_type": "stream",
          "name": "stderr",
          "text": [
            "Epoch 12 - Training (RNN-T): 100%|██████████| 11/11 [00:09<00:00,  1.13it/s]\n",
            "Epoch 12 - Validation (RNN-T): 100%|██████████| 2/2 [00:01<00:00,  1.57it/s]\n"
          ]
        },
        {
          "output_type": "stream",
          "name": "stdout",
          "text": [
            "[RNN-T] Epoch 12: Train Loss=35.7627, WER=1.0000, CER=0.9848 | Val Loss=35.0062, WER=1.0000, CER=0.9818\n"
          ]
        },
        {
          "output_type": "stream",
          "name": "stderr",
          "text": [
            "Epoch 13 - Training (RNN-T): 100%|██████████| 11/11 [00:09<00:00,  1.13it/s]\n",
            "Epoch 13 - Validation (RNN-T): 100%|██████████| 2/2 [00:01<00:00,  1.55it/s]\n"
          ]
        },
        {
          "output_type": "stream",
          "name": "stdout",
          "text": [
            "[RNN-T] Epoch 13: Train Loss=35.7123, WER=1.0000, CER=0.9867 | Val Loss=34.7003, WER=1.0000, CER=0.9819\n"
          ]
        },
        {
          "output_type": "stream",
          "name": "stderr",
          "text": [
            "Epoch 14 - Training (RNN-T): 100%|██████████| 11/11 [00:10<00:00,  1.07it/s]\n",
            "Epoch 14 - Validation (RNN-T): 100%|██████████| 2/2 [00:01<00:00,  1.59it/s]\n"
          ]
        },
        {
          "output_type": "stream",
          "name": "stdout",
          "text": [
            "[RNN-T] Epoch 14: Train Loss=37.0484, WER=1.0000, CER=0.9875 | Val Loss=34.3582, WER=1.0000, CER=0.9823\n"
          ]
        },
        {
          "output_type": "stream",
          "name": "stderr",
          "text": [
            "Epoch 15 - Training (RNN-T): 100%|██████████| 11/11 [00:09<00:00,  1.18it/s]\n",
            "Epoch 15 - Validation (RNN-T): 100%|██████████| 2/2 [00:01<00:00,  1.59it/s]\n"
          ]
        },
        {
          "output_type": "stream",
          "name": "stdout",
          "text": [
            "[RNN-T] Epoch 15: Train Loss=33.4334, WER=1.0000, CER=0.9861 | Val Loss=34.0076, WER=1.0000, CER=0.9831\n"
          ]
        },
        {
          "output_type": "stream",
          "name": "stderr",
          "text": [
            "Epoch 16 - Training (RNN-T): 100%|██████████| 11/11 [00:09<00:00,  1.12it/s]\n",
            "Epoch 16 - Validation (RNN-T): 100%|██████████| 2/2 [00:01<00:00,  1.56it/s]\n"
          ]
        },
        {
          "output_type": "stream",
          "name": "stdout",
          "text": [
            "[RNN-T] Epoch 16: Train Loss=34.3174, WER=1.0000, CER=0.9890 | Val Loss=33.6248, WER=1.0000, CER=0.9862\n"
          ]
        },
        {
          "output_type": "stream",
          "name": "stderr",
          "text": [
            "Epoch 17 - Training (RNN-T): 100%|██████████| 11/11 [00:09<00:00,  1.10it/s]\n",
            "Epoch 17 - Validation (RNN-T): 100%|██████████| 2/2 [00:01<00:00,  1.60it/s]\n"
          ]
        },
        {
          "output_type": "stream",
          "name": "stdout",
          "text": [
            "[RNN-T] Epoch 17: Train Loss=34.7530, WER=1.0000, CER=0.9907 | Val Loss=33.2292, WER=1.0000, CER=0.9886\n"
          ]
        },
        {
          "output_type": "stream",
          "name": "stderr",
          "text": [
            "Epoch 18 - Training (RNN-T): 100%|██████████| 11/11 [00:10<00:00,  1.07it/s]\n",
            "Epoch 18 - Validation (RNN-T): 100%|██████████| 2/2 [00:01<00:00,  1.59it/s]\n"
          ]
        },
        {
          "output_type": "stream",
          "name": "stdout",
          "text": [
            "[RNN-T] Epoch 18: Train Loss=35.2522, WER=1.0000, CER=0.9946 | Val Loss=32.7892, WER=1.0000, CER=0.9933\n"
          ]
        },
        {
          "output_type": "stream",
          "name": "stderr",
          "text": [
            "Epoch 19 - Training (RNN-T): 100%|██████████| 11/11 [00:10<00:00,  1.09it/s]\n",
            "Epoch 19 - Validation (RNN-T): 100%|██████████| 2/2 [00:01<00:00,  1.55it/s]\n"
          ]
        },
        {
          "output_type": "stream",
          "name": "stdout",
          "text": [
            "[RNN-T] Epoch 19: Train Loss=34.3871, WER=1.0000, CER=0.9961 | Val Loss=32.3309, WER=1.0000, CER=0.9956\n"
          ]
        },
        {
          "output_type": "stream",
          "name": "stderr",
          "text": [
            "Epoch 20 - Training (RNN-T): 100%|██████████| 11/11 [00:09<00:00,  1.13it/s]\n",
            "Epoch 20 - Validation (RNN-T): 100%|██████████| 2/2 [00:01<00:00,  1.59it/s]\n"
          ]
        },
        {
          "output_type": "stream",
          "name": "stdout",
          "text": [
            "[RNN-T] Epoch 20: Train Loss=32.3054, WER=1.0000, CER=0.9977 | Val Loss=31.8601, WER=1.0000, CER=0.9965\n"
          ]
        },
        {
          "output_type": "stream",
          "name": "stderr",
          "text": [
            "Epoch 21 - Training (RNN-T): 100%|██████████| 11/11 [00:09<00:00,  1.14it/s]\n",
            "Epoch 21 - Validation (RNN-T): 100%|██████████| 2/2 [00:01<00:00,  1.54it/s]\n"
          ]
        },
        {
          "output_type": "stream",
          "name": "stdout",
          "text": [
            "[RNN-T] Epoch 21: Train Loss=32.1862, WER=1.0000, CER=0.9983 | Val Loss=31.3839, WER=1.0000, CER=0.9966\n"
          ]
        },
        {
          "output_type": "stream",
          "name": "stderr",
          "text": [
            "Epoch 22 - Training (RNN-T): 100%|██████████| 11/11 [00:10<00:00,  1.09it/s]\n",
            "Epoch 22 - Validation (RNN-T): 100%|██████████| 2/2 [00:01<00:00,  1.57it/s]\n"
          ]
        },
        {
          "output_type": "stream",
          "name": "stdout",
          "text": [
            "[RNN-T] Epoch 22: Train Loss=32.5430, WER=1.0000, CER=0.9986 | Val Loss=30.8729, WER=1.0000, CER=0.9970\n"
          ]
        },
        {
          "output_type": "stream",
          "name": "stderr",
          "text": [
            "Epoch 23 - Training (RNN-T): 100%|██████████| 11/11 [00:09<00:00,  1.13it/s]\n",
            "Epoch 23 - Validation (RNN-T): 100%|██████████| 2/2 [00:01<00:00,  1.54it/s]\n"
          ]
        },
        {
          "output_type": "stream",
          "name": "stdout",
          "text": [
            "[RNN-T] Epoch 23: Train Loss=31.3889, WER=1.0000, CER=0.9988 | Val Loss=30.3507, WER=1.0000, CER=0.9983\n"
          ]
        },
        {
          "output_type": "stream",
          "name": "stderr",
          "text": [
            "Epoch 24 - Training (RNN-T): 100%|██████████| 11/11 [00:10<00:00,  1.09it/s]\n",
            "Epoch 24 - Validation (RNN-T): 100%|██████████| 2/2 [00:01<00:00,  1.59it/s]\n"
          ]
        },
        {
          "output_type": "stream",
          "name": "stdout",
          "text": [
            "[RNN-T] Epoch 24: Train Loss=31.8784, WER=1.0000, CER=0.9996 | Val Loss=29.8044, WER=1.0000, CER=0.9985\n"
          ]
        },
        {
          "output_type": "stream",
          "name": "stderr",
          "text": [
            "Epoch 25 - Training (RNN-T): 100%|██████████| 11/11 [00:09<00:00,  1.11it/s]\n",
            "Epoch 25 - Validation (RNN-T): 100%|██████████| 2/2 [00:01<00:00,  1.57it/s]\n"
          ]
        },
        {
          "output_type": "stream",
          "name": "stdout",
          "text": [
            "[RNN-T] Epoch 25: Train Loss=30.5026, WER=1.0000, CER=0.9995 | Val Loss=29.2249, WER=1.0000, CER=0.9989\n"
          ]
        },
        {
          "output_type": "stream",
          "name": "stderr",
          "text": [
            "Epoch 26 - Training (RNN-T): 100%|██████████| 11/11 [00:09<00:00,  1.10it/s]\n",
            "Epoch 26 - Validation (RNN-T): 100%|██████████| 2/2 [00:01<00:00,  1.57it/s]\n"
          ]
        },
        {
          "output_type": "stream",
          "name": "stdout",
          "text": [
            "[RNN-T] Epoch 26: Train Loss=29.0936, WER=1.0000, CER=0.9998 | Val Loss=28.6343, WER=1.0000, CER=0.9993\n"
          ]
        },
        {
          "output_type": "stream",
          "name": "stderr",
          "text": [
            "Epoch 27 - Training (RNN-T): 100%|██████████| 11/11 [00:09<00:00,  1.15it/s]\n",
            "Epoch 27 - Validation (RNN-T): 100%|██████████| 2/2 [00:01<00:00,  1.58it/s]\n"
          ]
        },
        {
          "output_type": "stream",
          "name": "stdout",
          "text": [
            "[RNN-T] Epoch 27: Train Loss=28.3598, WER=1.0000, CER=0.9999 | Val Loss=28.0372, WER=1.0000, CER=0.9993\n"
          ]
        },
        {
          "output_type": "stream",
          "name": "stderr",
          "text": [
            "Epoch 28 - Training (RNN-T): 100%|██████████| 11/11 [00:10<00:00,  1.09it/s]\n",
            "Epoch 28 - Validation (RNN-T): 100%|██████████| 2/2 [00:01<00:00,  1.59it/s]\n"
          ]
        },
        {
          "output_type": "stream",
          "name": "stdout",
          "text": [
            "[RNN-T] Epoch 28: Train Loss=29.1070, WER=1.0000, CER=1.0000 | Val Loss=27.4143, WER=1.0000, CER=0.9999\n"
          ]
        },
        {
          "output_type": "stream",
          "name": "stderr",
          "text": [
            "Epoch 29 - Training (RNN-T): 100%|██████████| 11/11 [00:09<00:00,  1.19it/s]\n",
            "Epoch 29 - Validation (RNN-T): 100%|██████████| 2/2 [00:01<00:00,  1.58it/s]\n"
          ]
        },
        {
          "output_type": "stream",
          "name": "stdout",
          "text": [
            "[RNN-T] Epoch 29: Train Loss=25.8843, WER=1.0000, CER=1.0000 | Val Loss=26.7772, WER=1.0000, CER=1.0000\n"
          ]
        },
        {
          "output_type": "stream",
          "name": "stderr",
          "text": [
            "Epoch 30 - Training (RNN-T): 100%|██████████| 11/11 [00:09<00:00,  1.12it/s]\n",
            "Epoch 30 - Validation (RNN-T): 100%|██████████| 2/2 [00:01<00:00,  1.56it/s]\n"
          ]
        },
        {
          "output_type": "stream",
          "name": "stdout",
          "text": [
            "[RNN-T] Epoch 30: Train Loss=26.7273, WER=1.0000, CER=1.0000 | Val Loss=26.1311, WER=1.0000, CER=1.0000\n"
          ]
        },
        {
          "output_type": "stream",
          "name": "stderr",
          "text": [
            "Epoch 31 - Training (RNN-T): 100%|██████████| 11/11 [00:09<00:00,  1.16it/s]\n",
            "Epoch 31 - Validation (RNN-T): 100%|██████████| 2/2 [00:01<00:00,  1.59it/s]\n"
          ]
        },
        {
          "output_type": "stream",
          "name": "stdout",
          "text": [
            "[RNN-T] Epoch 31: Train Loss=25.4719, WER=1.0000, CER=1.0000 | Val Loss=25.4740, WER=1.0000, CER=1.0000\n"
          ]
        },
        {
          "output_type": "stream",
          "name": "stderr",
          "text": [
            "Epoch 32 - Training (RNN-T): 100%|██████████| 11/11 [00:10<00:00,  1.09it/s]\n",
            "Epoch 32 - Validation (RNN-T): 100%|██████████| 2/2 [00:01<00:00,  1.58it/s]\n"
          ]
        },
        {
          "output_type": "stream",
          "name": "stdout",
          "text": [
            "[RNN-T] Epoch 32: Train Loss=26.4601, WER=1.0000, CER=1.0000 | Val Loss=24.7805, WER=1.0000, CER=1.0000\n"
          ]
        },
        {
          "output_type": "stream",
          "name": "stderr",
          "text": [
            "Epoch 33 - Training (RNN-T): 100%|██████████| 11/11 [00:09<00:00,  1.14it/s]\n",
            "Epoch 33 - Validation (RNN-T): 100%|██████████| 2/2 [00:01<00:00,  1.59it/s]\n"
          ]
        },
        {
          "output_type": "stream",
          "name": "stdout",
          "text": [
            "[RNN-T] Epoch 33: Train Loss=24.5997, WER=1.0000, CER=1.0000 | Val Loss=24.0510, WER=1.0000, CER=1.0000\n"
          ]
        },
        {
          "output_type": "stream",
          "name": "stderr",
          "text": [
            "Epoch 34 - Training (RNN-T): 100%|██████████| 11/11 [00:10<00:00,  1.09it/s]\n",
            "Epoch 34 - Validation (RNN-T): 100%|██████████| 2/2 [00:01<00:00,  1.56it/s]\n"
          ]
        },
        {
          "output_type": "stream",
          "name": "stdout",
          "text": [
            "[RNN-T] Epoch 34: Train Loss=24.6254, WER=1.0000, CER=1.0000 | Val Loss=23.3212, WER=1.0000, CER=1.0000\n"
          ]
        },
        {
          "output_type": "stream",
          "name": "stderr",
          "text": [
            "Epoch 35 - Training (RNN-T): 100%|██████████| 11/11 [00:09<00:00,  1.11it/s]\n",
            "Epoch 35 - Validation (RNN-T): 100%|██████████| 2/2 [00:01<00:00,  1.58it/s]\n"
          ]
        },
        {
          "output_type": "stream",
          "name": "stdout",
          "text": [
            "[RNN-T] Epoch 35: Train Loss=23.4634, WER=1.0000, CER=1.0000 | Val Loss=22.5870, WER=1.0000, CER=1.0000\n"
          ]
        },
        {
          "output_type": "stream",
          "name": "stderr",
          "text": [
            "Epoch 36 - Training (RNN-T): 100%|██████████| 11/11 [00:09<00:00,  1.10it/s]\n",
            "Epoch 36 - Validation (RNN-T): 100%|██████████| 2/2 [00:01<00:00,  1.56it/s]\n"
          ]
        },
        {
          "output_type": "stream",
          "name": "stdout",
          "text": [
            "[RNN-T] Epoch 36: Train Loss=22.7714, WER=1.0000, CER=1.0000 | Val Loss=21.8426, WER=1.0000, CER=1.0000\n"
          ]
        },
        {
          "output_type": "stream",
          "name": "stderr",
          "text": [
            "Epoch 37 - Training (RNN-T): 100%|██████████| 11/11 [00:09<00:00,  1.14it/s]\n",
            "Epoch 37 - Validation (RNN-T): 100%|██████████| 2/2 [00:01<00:00,  1.56it/s]\n"
          ]
        },
        {
          "output_type": "stream",
          "name": "stdout",
          "text": [
            "[RNN-T] Epoch 37: Train Loss=21.5898, WER=1.0000, CER=1.0000 | Val Loss=21.0873, WER=1.0000, CER=1.0000\n"
          ]
        },
        {
          "output_type": "stream",
          "name": "stderr",
          "text": [
            "Epoch 38 - Training (RNN-T): 100%|██████████| 11/11 [00:10<00:00,  1.08it/s]\n",
            "Epoch 38 - Validation (RNN-T): 100%|██████████| 2/2 [00:01<00:00,  1.58it/s]\n"
          ]
        },
        {
          "output_type": "stream",
          "name": "stdout",
          "text": [
            "[RNN-T] Epoch 38: Train Loss=21.6118, WER=1.0000, CER=1.0000 | Val Loss=20.3385, WER=1.0000, CER=1.0000\n"
          ]
        },
        {
          "output_type": "stream",
          "name": "stderr",
          "text": [
            "Epoch 39 - Training (RNN-T): 100%|██████████| 11/11 [00:09<00:00,  1.15it/s]\n",
            "Epoch 39 - Validation (RNN-T): 100%|██████████| 2/2 [00:01<00:00,  1.55it/s]\n"
          ]
        },
        {
          "output_type": "stream",
          "name": "stdout",
          "text": [
            "[RNN-T] Epoch 39: Train Loss=19.6550, WER=1.0000, CER=1.0000 | Val Loss=19.5824, WER=1.0000, CER=1.0000\n"
          ]
        },
        {
          "output_type": "stream",
          "name": "stderr",
          "text": [
            "Epoch 40 - Training (RNN-T): 100%|██████████| 11/11 [00:10<00:00,  1.08it/s]\n",
            "Epoch 40 - Validation (RNN-T): 100%|██████████| 2/2 [00:01<00:00,  1.59it/s]\n"
          ]
        },
        {
          "output_type": "stream",
          "name": "stdout",
          "text": [
            "[RNN-T] Epoch 40: Train Loss=20.0303, WER=1.0000, CER=1.0000 | Val Loss=18.8322, WER=1.0000, CER=1.0000\n"
          ]
        },
        {
          "output_type": "stream",
          "name": "stderr",
          "text": [
            "Epoch 41 - Training (RNN-T): 100%|██████████| 11/11 [00:10<00:00,  1.09it/s]\n",
            "Epoch 41 - Validation (RNN-T): 100%|██████████| 2/2 [00:01<00:00,  1.57it/s]\n"
          ]
        },
        {
          "output_type": "stream",
          "name": "stdout",
          "text": [
            "[RNN-T] Epoch 41: Train Loss=18.9727, WER=1.0000, CER=1.0000 | Val Loss=18.0790, WER=1.0000, CER=1.0000\n"
          ]
        },
        {
          "output_type": "stream",
          "name": "stderr",
          "text": [
            "Epoch 42 - Training (RNN-T): 100%|██████████| 11/11 [00:10<00:00,  1.08it/s]\n",
            "Epoch 42 - Validation (RNN-T): 100%|██████████| 2/2 [00:01<00:00,  1.56it/s]\n"
          ]
        },
        {
          "output_type": "stream",
          "name": "stdout",
          "text": [
            "[RNN-T] Epoch 42: Train Loss=18.1486, WER=1.0000, CER=1.0000 | Val Loss=17.3035, WER=1.0000, CER=1.0000\n"
          ]
        },
        {
          "output_type": "stream",
          "name": "stderr",
          "text": [
            "Epoch 43 - Training (RNN-T): 100%|██████████| 11/11 [00:09<00:00,  1.12it/s]\n",
            "Epoch 43 - Validation (RNN-T): 100%|██████████| 2/2 [00:01<00:00,  1.58it/s]\n"
          ]
        },
        {
          "output_type": "stream",
          "name": "stdout",
          "text": [
            "[RNN-T] Epoch 43: Train Loss=16.8812, WER=1.0000, CER=1.0000 | Val Loss=16.5184, WER=1.0000, CER=1.0000\n"
          ]
        },
        {
          "output_type": "stream",
          "name": "stderr",
          "text": [
            "Epoch 44 - Training (RNN-T): 100%|██████████| 11/11 [00:10<00:00,  1.06it/s]\n",
            "Epoch 44 - Validation (RNN-T): 100%|██████████| 2/2 [00:01<00:00,  1.60it/s]\n"
          ]
        },
        {
          "output_type": "stream",
          "name": "stdout",
          "text": [
            "[RNN-T] Epoch 44: Train Loss=16.9537, WER=1.0000, CER=1.0000 | Val Loss=15.7308, WER=1.0000, CER=1.0000\n"
          ]
        },
        {
          "output_type": "stream",
          "name": "stderr",
          "text": [
            "Epoch 45 - Training (RNN-T): 100%|██████████| 11/11 [00:10<00:00,  1.10it/s]\n",
            "Epoch 45 - Validation (RNN-T): 100%|██████████| 2/2 [00:01<00:00,  1.55it/s]\n"
          ]
        },
        {
          "output_type": "stream",
          "name": "stdout",
          "text": [
            "[RNN-T] Epoch 45: Train Loss=15.4894, WER=1.0000, CER=1.0000 | Val Loss=14.9373, WER=1.0000, CER=1.0000\n"
          ]
        },
        {
          "output_type": "stream",
          "name": "stderr",
          "text": [
            "Epoch 46 - Training (RNN-T): 100%|██████████| 11/11 [00:09<00:00,  1.12it/s]\n",
            "Epoch 46 - Validation (RNN-T): 100%|██████████| 2/2 [00:01<00:00,  1.60it/s]\n"
          ]
        },
        {
          "output_type": "stream",
          "name": "stdout",
          "text": [
            "[RNN-T] Epoch 46: Train Loss=14.4278, WER=1.0000, CER=1.0000 | Val Loss=14.1377, WER=1.0000, CER=1.0000\n"
          ]
        },
        {
          "output_type": "stream",
          "name": "stderr",
          "text": [
            "Epoch 47 - Training (RNN-T): 100%|██████████| 11/11 [00:09<00:00,  1.13it/s]\n",
            "Epoch 47 - Validation (RNN-T): 100%|██████████| 2/2 [00:01<00:00,  1.57it/s]\n"
          ]
        },
        {
          "output_type": "stream",
          "name": "stdout",
          "text": [
            "[RNN-T] Epoch 47: Train Loss=13.4568, WER=1.0000, CER=0.9998 | Val Loss=13.2806, WER=1.0000, CER=1.0000\n"
          ]
        },
        {
          "output_type": "stream",
          "name": "stderr",
          "text": [
            "Epoch 48 - Training (RNN-T): 100%|██████████| 11/11 [00:10<00:00,  1.05it/s]\n",
            "Epoch 48 - Validation (RNN-T): 100%|██████████| 2/2 [00:01<00:00,  1.58it/s]\n"
          ]
        },
        {
          "output_type": "stream",
          "name": "stdout",
          "text": [
            "[RNN-T] Epoch 48: Train Loss=13.4512, WER=1.0000, CER=1.0000 | Val Loss=12.3585, WER=1.0000, CER=1.0000\n"
          ]
        },
        {
          "output_type": "stream",
          "name": "stderr",
          "text": [
            "Epoch 49 - Training (RNN-T): 100%|██████████| 11/11 [00:10<00:00,  1.09it/s]\n",
            "Epoch 49 - Validation (RNN-T): 100%|██████████| 2/2 [00:01<00:00,  1.56it/s]\n"
          ]
        },
        {
          "output_type": "stream",
          "name": "stdout",
          "text": [
            "[RNN-T] Epoch 49: Train Loss=12.0017, WER=1.0000, CER=1.0000 | Val Loss=11.2790, WER=1.0000, CER=1.0000\n"
          ]
        },
        {
          "output_type": "stream",
          "name": "stderr",
          "text": [
            "Epoch 50 - Training (RNN-T): 100%|██████████| 11/11 [00:10<00:00,  1.10it/s]\n",
            "Epoch 50 - Validation (RNN-T): 100%|██████████| 2/2 [00:01<00:00,  1.56it/s]\n"
          ]
        },
        {
          "output_type": "stream",
          "name": "stdout",
          "text": [
            "[RNN-T] Epoch 50: Train Loss=10.6199, WER=1.0000, CER=1.0000 | Val Loss=10.0702, WER=1.0000, CER=1.0000\n"
          ]
        },
        {
          "output_type": "stream",
          "name": "stderr",
          "text": [
            "Epoch 51 - Training (RNN-T): 100%|██████████| 11/11 [00:10<00:00,  1.09it/s]\n",
            "Epoch 51 - Validation (RNN-T): 100%|██████████| 2/2 [00:01<00:00,  1.55it/s]\n"
          ]
        },
        {
          "output_type": "stream",
          "name": "stdout",
          "text": [
            "[RNN-T] Epoch 51: Train Loss=9.4419, WER=1.0000, CER=1.0000 | Val Loss=8.6610, WER=1.0000, CER=1.0000\n"
          ]
        },
        {
          "output_type": "stream",
          "name": "stderr",
          "text": [
            "Epoch 52 - Training (RNN-T): 100%|██████████| 11/11 [00:10<00:00,  1.09it/s]\n",
            "Epoch 52 - Validation (RNN-T): 100%|██████████| 2/2 [00:01<00:00,  1.58it/s]\n"
          ]
        },
        {
          "output_type": "stream",
          "name": "stdout",
          "text": [
            "[RNN-T] Epoch 52: Train Loss=8.0175, WER=1.0000, CER=1.0000 | Val Loss=7.3127, WER=1.0000, CER=1.0000\n"
          ]
        },
        {
          "output_type": "stream",
          "name": "stderr",
          "text": [
            "Epoch 53 - Training (RNN-T): 100%|██████████| 11/11 [00:09<00:00,  1.12it/s]\n",
            "Epoch 53 - Validation (RNN-T): 100%|██████████| 2/2 [00:01<00:00,  1.56it/s]\n"
          ]
        },
        {
          "output_type": "stream",
          "name": "stdout",
          "text": [
            "[RNN-T] Epoch 53: Train Loss=6.6750, WER=1.0000, CER=1.0000 | Val Loss=6.2694, WER=1.0000, CER=1.0000\n"
          ]
        },
        {
          "output_type": "stream",
          "name": "stderr",
          "text": [
            "Epoch 54 - Training (RNN-T): 100%|██████████| 11/11 [00:10<00:00,  1.10it/s]\n",
            "Epoch 54 - Validation (RNN-T): 100%|██████████| 2/2 [00:01<00:00,  1.60it/s]\n"
          ]
        },
        {
          "output_type": "stream",
          "name": "stdout",
          "text": [
            "[RNN-T] Epoch 54: Train Loss=5.8918, WER=1.0000, CER=1.0000 | Val Loss=5.6255, WER=1.0000, CER=1.0000\n"
          ]
        },
        {
          "output_type": "stream",
          "name": "stderr",
          "text": [
            "Epoch 55 - Training (RNN-T): 100%|██████████| 11/11 [00:09<00:00,  1.14it/s]\n",
            "Epoch 55 - Validation (RNN-T): 100%|██████████| 2/2 [00:01<00:00,  1.59it/s]\n"
          ]
        },
        {
          "output_type": "stream",
          "name": "stdout",
          "text": [
            "[RNN-T] Epoch 55: Train Loss=5.2571, WER=1.0000, CER=1.0000 | Val Loss=5.2282, WER=1.0000, CER=1.0000\n"
          ]
        },
        {
          "output_type": "stream",
          "name": "stderr",
          "text": [
            "Epoch 56 - Training (RNN-T): 100%|██████████| 11/11 [00:09<00:00,  1.14it/s]\n",
            "Epoch 56 - Validation (RNN-T): 100%|██████████| 2/2 [00:01<00:00,  1.57it/s]\n"
          ]
        },
        {
          "output_type": "stream",
          "name": "stdout",
          "text": [
            "[RNN-T] Epoch 56: Train Loss=4.9686, WER=1.0000, CER=1.0000 | Val Loss=4.9614, WER=1.0000, CER=1.0000\n"
          ]
        },
        {
          "output_type": "stream",
          "name": "stderr",
          "text": [
            "Epoch 57 - Training (RNN-T): 100%|██████████| 11/11 [00:10<00:00,  1.08it/s]\n",
            "Epoch 57 - Validation (RNN-T): 100%|██████████| 2/2 [00:01<00:00,  1.56it/s]\n"
          ]
        },
        {
          "output_type": "stream",
          "name": "stdout",
          "text": [
            "[RNN-T] Epoch 57: Train Loss=4.8446, WER=1.0000, CER=1.0000 | Val Loss=4.7568, WER=1.0000, CER=1.0000\n"
          ]
        },
        {
          "output_type": "stream",
          "name": "stderr",
          "text": [
            "Epoch 58 - Training (RNN-T): 100%|██████████| 11/11 [00:10<00:00,  1.08it/s]\n",
            "Epoch 58 - Validation (RNN-T): 100%|██████████| 2/2 [00:01<00:00,  1.59it/s]\n"
          ]
        },
        {
          "output_type": "stream",
          "name": "stdout",
          "text": [
            "[RNN-T] Epoch 58: Train Loss=4.6168, WER=1.0000, CER=1.0000 | Val Loss=4.5996, WER=1.0000, CER=1.0000\n"
          ]
        },
        {
          "output_type": "stream",
          "name": "stderr",
          "text": [
            "Epoch 59 - Training (RNN-T): 100%|██████████| 11/11 [00:10<00:00,  1.10it/s]\n",
            "Epoch 59 - Validation (RNN-T): 100%|██████████| 2/2 [00:01<00:00,  1.58it/s]\n"
          ]
        },
        {
          "output_type": "stream",
          "name": "stdout",
          "text": [
            "[RNN-T] Epoch 59: Train Loss=4.5058, WER=1.0000, CER=1.0000 | Val Loss=4.4729, WER=1.0000, CER=1.0000\n"
          ]
        },
        {
          "output_type": "stream",
          "name": "stderr",
          "text": [
            "Epoch 60 - Training (RNN-T): 100%|██████████| 11/11 [00:09<00:00,  1.11it/s]\n",
            "Epoch 60 - Validation (RNN-T): 100%|██████████| 2/2 [00:01<00:00,  1.55it/s]\n"
          ]
        },
        {
          "output_type": "stream",
          "name": "stdout",
          "text": [
            "[RNN-T] Epoch 60: Train Loss=4.3742, WER=1.0000, CER=1.0000 | Val Loss=4.3697, WER=1.0000, CER=1.0000\n"
          ]
        },
        {
          "output_type": "stream",
          "name": "stderr",
          "text": [
            "Epoch 61 - Training (RNN-T): 100%|██████████| 11/11 [00:09<00:00,  1.14it/s]\n",
            "Epoch 61 - Validation (RNN-T): 100%|██████████| 2/2 [00:01<00:00,  1.59it/s]\n"
          ]
        },
        {
          "output_type": "stream",
          "name": "stdout",
          "text": [
            "[RNN-T] Epoch 61: Train Loss=4.2413, WER=1.0000, CER=1.0000 | Val Loss=4.2839, WER=1.0000, CER=1.0000\n"
          ]
        },
        {
          "output_type": "stream",
          "name": "stderr",
          "text": [
            "Epoch 62 - Training (RNN-T): 100%|██████████| 11/11 [00:09<00:00,  1.10it/s]\n",
            "Epoch 62 - Validation (RNN-T): 100%|██████████| 2/2 [00:01<00:00,  1.54it/s]\n"
          ]
        },
        {
          "output_type": "stream",
          "name": "stdout",
          "text": [
            "[RNN-T] Epoch 62: Train Loss=4.2092, WER=1.0000, CER=1.0000 | Val Loss=4.2106, WER=1.0000, CER=1.0000\n"
          ]
        },
        {
          "output_type": "stream",
          "name": "stderr",
          "text": [
            "Epoch 63 - Training (RNN-T): 100%|██████████| 11/11 [00:09<00:00,  1.16it/s]\n",
            "Epoch 63 - Validation (RNN-T): 100%|██████████| 2/2 [00:01<00:00,  1.56it/s]\n"
          ]
        },
        {
          "output_type": "stream",
          "name": "stdout",
          "text": [
            "[RNN-T] Epoch 63: Train Loss=4.0810, WER=1.0000, CER=1.0000 | Val Loss=4.1487, WER=1.0000, CER=1.0000\n"
          ]
        },
        {
          "output_type": "stream",
          "name": "stderr",
          "text": [
            "Epoch 64 - Training (RNN-T): 100%|██████████| 11/11 [00:08<00:00,  1.23it/s]\n",
            "Epoch 64 - Validation (RNN-T): 100%|██████████| 2/2 [00:01<00:00,  1.54it/s]\n"
          ]
        },
        {
          "output_type": "stream",
          "name": "stdout",
          "text": [
            "[RNN-T] Epoch 64: Train Loss=4.0059, WER=1.0000, CER=1.0000 | Val Loss=4.1008, WER=1.0000, CER=1.0000\n"
          ]
        },
        {
          "output_type": "stream",
          "name": "stderr",
          "text": [
            "Epoch 65 - Training (RNN-T): 100%|██████████| 11/11 [00:09<00:00,  1.11it/s]\n",
            "Epoch 65 - Validation (RNN-T): 100%|██████████| 2/2 [00:01<00:00,  1.59it/s]\n"
          ]
        },
        {
          "output_type": "stream",
          "name": "stdout",
          "text": [
            "[RNN-T] Epoch 65: Train Loss=4.0352, WER=1.0000, CER=1.0000 | Val Loss=4.0537, WER=1.0000, CER=1.0000\n"
          ]
        },
        {
          "output_type": "stream",
          "name": "stderr",
          "text": [
            "Epoch 66 - Training (RNN-T): 100%|██████████| 11/11 [00:10<00:00,  1.10it/s]\n",
            "Epoch 66 - Validation (RNN-T): 100%|██████████| 2/2 [00:01<00:00,  1.51it/s]\n"
          ]
        },
        {
          "output_type": "stream",
          "name": "stdout",
          "text": [
            "[RNN-T] Epoch 66: Train Loss=3.9809, WER=1.0000, CER=1.0000 | Val Loss=4.0096, WER=1.0000, CER=1.0000\n"
          ]
        },
        {
          "output_type": "stream",
          "name": "stderr",
          "text": [
            "Epoch 67 - Training (RNN-T): 100%|██████████| 11/11 [00:09<00:00,  1.11it/s]\n",
            "Epoch 67 - Validation (RNN-T): 100%|██████████| 2/2 [00:01<00:00,  1.60it/s]\n"
          ]
        },
        {
          "output_type": "stream",
          "name": "stdout",
          "text": [
            "[RNN-T] Epoch 67: Train Loss=3.9382, WER=1.0000, CER=1.0000 | Val Loss=3.9721, WER=1.0000, CER=1.0000\n"
          ]
        },
        {
          "output_type": "stream",
          "name": "stderr",
          "text": [
            "Epoch 68 - Training (RNN-T): 100%|██████████| 11/11 [00:09<00:00,  1.10it/s]\n",
            "Epoch 68 - Validation (RNN-T): 100%|██████████| 2/2 [00:01<00:00,  1.58it/s]\n"
          ]
        },
        {
          "output_type": "stream",
          "name": "stdout",
          "text": [
            "[RNN-T] Epoch 68: Train Loss=3.9001, WER=1.0000, CER=1.0000 | Val Loss=3.9379, WER=1.0000, CER=1.0000\n"
          ]
        },
        {
          "output_type": "stream",
          "name": "stderr",
          "text": [
            "Epoch 69 - Training (RNN-T): 100%|██████████| 11/11 [00:09<00:00,  1.10it/s]\n",
            "Epoch 69 - Validation (RNN-T): 100%|██████████| 2/2 [00:01<00:00,  1.54it/s]\n"
          ]
        },
        {
          "output_type": "stream",
          "name": "stdout",
          "text": [
            "[RNN-T] Epoch 69: Train Loss=3.8577, WER=1.0000, CER=1.0000 | Val Loss=3.9086, WER=1.0000, CER=1.0000\n"
          ]
        },
        {
          "output_type": "stream",
          "name": "stderr",
          "text": [
            "Epoch 70 - Training (RNN-T): 100%|██████████| 11/11 [00:10<00:00,  1.10it/s]\n",
            "Epoch 70 - Validation (RNN-T): 100%|██████████| 2/2 [00:01<00:00,  1.57it/s]\n"
          ]
        },
        {
          "output_type": "stream",
          "name": "stdout",
          "text": [
            "[RNN-T] Epoch 70: Train Loss=3.8451, WER=1.0000, CER=1.0000 | Val Loss=3.8827, WER=1.0000, CER=1.0000\n"
          ]
        },
        {
          "output_type": "stream",
          "name": "stderr",
          "text": [
            "Epoch 71 - Training (RNN-T): 100%|██████████| 11/11 [00:10<00:00,  1.09it/s]\n",
            "Epoch 71 - Validation (RNN-T): 100%|██████████| 2/2 [00:01<00:00,  1.51it/s]\n"
          ]
        },
        {
          "output_type": "stream",
          "name": "stdout",
          "text": [
            "[RNN-T] Epoch 71: Train Loss=3.8235, WER=1.0000, CER=1.0000 | Val Loss=3.8581, WER=1.0000, CER=1.0000\n"
          ]
        },
        {
          "output_type": "stream",
          "name": "stderr",
          "text": [
            "Epoch 72 - Training (RNN-T): 100%|██████████| 11/11 [00:10<00:00,  1.07it/s]\n",
            "Epoch 72 - Validation (RNN-T): 100%|██████████| 2/2 [00:01<00:00,  1.57it/s]\n"
          ]
        },
        {
          "output_type": "stream",
          "name": "stdout",
          "text": [
            "[RNN-T] Epoch 72: Train Loss=3.7996, WER=1.0000, CER=1.0000 | Val Loss=3.8375, WER=1.0000, CER=1.0000\n"
          ]
        },
        {
          "output_type": "stream",
          "name": "stderr",
          "text": [
            "Epoch 73 - Training (RNN-T): 100%|██████████| 11/11 [00:09<00:00,  1.21it/s]\n",
            "Epoch 73 - Validation (RNN-T): 100%|██████████| 2/2 [00:01<00:00,  1.55it/s]\n"
          ]
        },
        {
          "output_type": "stream",
          "name": "stdout",
          "text": [
            "[RNN-T] Epoch 73: Train Loss=3.7579, WER=1.0000, CER=1.0000 | Val Loss=3.8212, WER=1.0000, CER=1.0000\n"
          ]
        },
        {
          "output_type": "stream",
          "name": "stderr",
          "text": [
            "Epoch 74 - Training (RNN-T): 100%|██████████| 11/11 [00:10<00:00,  1.07it/s]\n",
            "Epoch 74 - Validation (RNN-T): 100%|██████████| 2/2 [00:01<00:00,  1.53it/s]\n"
          ]
        },
        {
          "output_type": "stream",
          "name": "stdout",
          "text": [
            "[RNN-T] Epoch 74: Train Loss=3.7653, WER=1.0000, CER=1.0000 | Val Loss=3.8068, WER=1.0000, CER=1.0000\n"
          ]
        },
        {
          "output_type": "stream",
          "name": "stderr",
          "text": [
            "Epoch 75 - Training (RNN-T): 100%|██████████| 11/11 [00:10<00:00,  1.06it/s]\n",
            "Epoch 75 - Validation (RNN-T): 100%|██████████| 2/2 [00:01<00:00,  1.53it/s]\n"
          ]
        },
        {
          "output_type": "stream",
          "name": "stdout",
          "text": [
            "[RNN-T] Epoch 75: Train Loss=3.7713, WER=1.0000, CER=1.0000 | Val Loss=3.7931, WER=1.0000, CER=1.0000\n"
          ]
        },
        {
          "output_type": "stream",
          "name": "stderr",
          "text": [
            "Epoch 76 - Training (RNN-T): 100%|██████████| 11/11 [00:09<00:00,  1.11it/s]\n",
            "Epoch 76 - Validation (RNN-T): 100%|██████████| 2/2 [00:01<00:00,  1.54it/s]\n"
          ]
        },
        {
          "output_type": "stream",
          "name": "stdout",
          "text": [
            "[RNN-T] Epoch 76: Train Loss=3.7385, WER=1.0000, CER=1.0000 | Val Loss=3.7814, WER=1.0000, CER=1.0000\n"
          ]
        },
        {
          "output_type": "stream",
          "name": "stderr",
          "text": [
            "Epoch 77 - Training (RNN-T): 100%|██████████| 11/11 [00:09<00:00,  1.11it/s]\n",
            "Epoch 77 - Validation (RNN-T): 100%|██████████| 2/2 [00:01<00:00,  1.55it/s]\n"
          ]
        },
        {
          "output_type": "stream",
          "name": "stdout",
          "text": [
            "[RNN-T] Epoch 77: Train Loss=3.7235, WER=1.0000, CER=1.0000 | Val Loss=3.7708, WER=1.0000, CER=1.0000\n"
          ]
        },
        {
          "output_type": "stream",
          "name": "stderr",
          "text": [
            "Epoch 78 - Training (RNN-T): 100%|██████████| 11/11 [00:09<00:00,  1.10it/s]\n",
            "Epoch 78 - Validation (RNN-T): 100%|██████████| 2/2 [00:01<00:00,  1.53it/s]\n"
          ]
        },
        {
          "output_type": "stream",
          "name": "stdout",
          "text": [
            "[RNN-T] Epoch 78: Train Loss=3.7097, WER=1.0000, CER=1.0000 | Val Loss=3.7622, WER=1.0000, CER=1.0000\n"
          ]
        },
        {
          "output_type": "stream",
          "name": "stderr",
          "text": [
            "Epoch 79 - Training (RNN-T): 100%|██████████| 11/11 [00:10<00:00,  1.08it/s]\n",
            "Epoch 79 - Validation (RNN-T): 100%|██████████| 2/2 [00:01<00:00,  1.54it/s]\n"
          ]
        },
        {
          "output_type": "stream",
          "name": "stdout",
          "text": [
            "[RNN-T] Epoch 79: Train Loss=3.7212, WER=1.0000, CER=1.0000 | Val Loss=3.7543, WER=1.0000, CER=1.0000\n"
          ]
        },
        {
          "output_type": "stream",
          "name": "stderr",
          "text": [
            "Epoch 80 - Training (RNN-T): 100%|██████████| 11/11 [00:09<00:00,  1.10it/s]\n",
            "Epoch 80 - Validation (RNN-T): 100%|██████████| 2/2 [00:01<00:00,  1.53it/s]\n"
          ]
        },
        {
          "output_type": "stream",
          "name": "stdout",
          "text": [
            "[RNN-T] Epoch 80: Train Loss=3.6956, WER=1.0000, CER=1.0000 | Val Loss=3.7470, WER=1.0000, CER=1.0000\n"
          ]
        },
        {
          "output_type": "stream",
          "name": "stderr",
          "text": [
            "Epoch 81 - Training (RNN-T): 100%|██████████| 11/11 [00:10<00:00,  1.08it/s]\n",
            "Epoch 81 - Validation (RNN-T): 100%|██████████| 2/2 [00:01<00:00,  1.57it/s]\n"
          ]
        },
        {
          "output_type": "stream",
          "name": "stdout",
          "text": [
            "[RNN-T] Epoch 81: Train Loss=3.7093, WER=1.0000, CER=1.0000 | Val Loss=3.7409, WER=1.0000, CER=1.0000\n"
          ]
        },
        {
          "output_type": "stream",
          "name": "stderr",
          "text": [
            "Epoch 82 - Training (RNN-T): 100%|██████████| 11/11 [00:10<00:00,  1.07it/s]\n",
            "Epoch 82 - Validation (RNN-T): 100%|██████████| 2/2 [00:01<00:00,  1.55it/s]\n"
          ]
        },
        {
          "output_type": "stream",
          "name": "stdout",
          "text": [
            "[RNN-T] Epoch 82: Train Loss=3.6780, WER=1.0000, CER=1.0000 | Val Loss=3.7350, WER=1.0000, CER=1.0000\n"
          ]
        },
        {
          "output_type": "stream",
          "name": "stderr",
          "text": [
            "Epoch 83 - Training (RNN-T): 100%|██████████| 11/11 [00:09<00:00,  1.12it/s]\n",
            "Epoch 83 - Validation (RNN-T): 100%|██████████| 2/2 [00:01<00:00,  1.56it/s]\n"
          ]
        },
        {
          "output_type": "stream",
          "name": "stdout",
          "text": [
            "[RNN-T] Epoch 83: Train Loss=3.6964, WER=1.0000, CER=1.0000 | Val Loss=3.7298, WER=1.0000, CER=1.0000\n"
          ]
        },
        {
          "output_type": "stream",
          "name": "stderr",
          "text": [
            "Epoch 84 - Training (RNN-T): 100%|██████████| 11/11 [00:10<00:00,  1.09it/s]\n",
            "Epoch 84 - Validation (RNN-T): 100%|██████████| 2/2 [00:01<00:00,  1.53it/s]\n"
          ]
        },
        {
          "output_type": "stream",
          "name": "stdout",
          "text": [
            "[RNN-T] Epoch 84: Train Loss=3.6809, WER=1.0000, CER=1.0000 | Val Loss=3.7251, WER=1.0000, CER=1.0000\n"
          ]
        },
        {
          "output_type": "stream",
          "name": "stderr",
          "text": [
            "Epoch 85 - Training (RNN-T): 100%|██████████| 11/11 [00:10<00:00,  1.09it/s]\n",
            "Epoch 85 - Validation (RNN-T): 100%|██████████| 2/2 [00:01<00:00,  1.56it/s]\n"
          ]
        },
        {
          "output_type": "stream",
          "name": "stdout",
          "text": [
            "[RNN-T] Epoch 85: Train Loss=3.6681, WER=1.0000, CER=1.0000 | Val Loss=3.7206, WER=1.0000, CER=1.0000\n"
          ]
        },
        {
          "output_type": "stream",
          "name": "stderr",
          "text": [
            "Epoch 86 - Training (RNN-T): 100%|██████████| 11/11 [00:09<00:00,  1.14it/s]\n",
            "Epoch 86 - Validation (RNN-T): 100%|██████████| 2/2 [00:01<00:00,  1.55it/s]\n"
          ]
        },
        {
          "output_type": "stream",
          "name": "stdout",
          "text": [
            "[RNN-T] Epoch 86: Train Loss=3.6703, WER=1.0000, CER=1.0000 | Val Loss=3.7165, WER=1.0000, CER=1.0000\n"
          ]
        },
        {
          "output_type": "stream",
          "name": "stderr",
          "text": [
            "Epoch 87 - Training (RNN-T): 100%|██████████| 11/11 [00:10<00:00,  1.06it/s]\n",
            "Epoch 87 - Validation (RNN-T): 100%|██████████| 2/2 [00:01<00:00,  1.51it/s]\n"
          ]
        },
        {
          "output_type": "stream",
          "name": "stdout",
          "text": [
            "[RNN-T] Epoch 87: Train Loss=3.6604, WER=1.0000, CER=1.0000 | Val Loss=3.7123, WER=1.0000, CER=1.0000\n"
          ]
        },
        {
          "output_type": "stream",
          "name": "stderr",
          "text": [
            "Epoch 88 - Training (RNN-T): 100%|██████████| 11/11 [00:10<00:00,  1.08it/s]\n",
            "Epoch 88 - Validation (RNN-T): 100%|██████████| 2/2 [00:01<00:00,  1.54it/s]\n"
          ]
        },
        {
          "output_type": "stream",
          "name": "stdout",
          "text": [
            "[RNN-T] Epoch 88: Train Loss=3.6433, WER=1.0000, CER=1.0000 | Val Loss=3.7082, WER=1.0000, CER=1.0000\n"
          ]
        },
        {
          "output_type": "stream",
          "name": "stderr",
          "text": [
            "Epoch 89 - Training (RNN-T): 100%|██████████| 11/11 [00:09<00:00,  1.18it/s]\n",
            "Epoch 89 - Validation (RNN-T): 100%|██████████| 2/2 [00:01<00:00,  1.56it/s]\n"
          ]
        },
        {
          "output_type": "stream",
          "name": "stdout",
          "text": [
            "[RNN-T] Epoch 89: Train Loss=3.6490, WER=1.0000, CER=1.0000 | Val Loss=3.7044, WER=1.0000, CER=1.0000\n"
          ]
        },
        {
          "output_type": "stream",
          "name": "stderr",
          "text": [
            "Epoch 90 - Training (RNN-T): 100%|██████████| 11/11 [00:10<00:00,  1.08it/s]\n",
            "Epoch 90 - Validation (RNN-T): 100%|██████████| 2/2 [00:01<00:00,  1.55it/s]\n"
          ]
        },
        {
          "output_type": "stream",
          "name": "stdout",
          "text": [
            "[RNN-T] Epoch 90: Train Loss=3.6651, WER=1.0000, CER=1.0000 | Val Loss=3.7008, WER=1.0000, CER=1.0000\n"
          ]
        },
        {
          "output_type": "stream",
          "name": "stderr",
          "text": [
            "Epoch 91 - Training (RNN-T): 100%|██████████| 11/11 [00:10<00:00,  1.07it/s]\n",
            "Epoch 91 - Validation (RNN-T): 100%|██████████| 2/2 [00:01<00:00,  1.57it/s]\n"
          ]
        },
        {
          "output_type": "stream",
          "name": "stdout",
          "text": [
            "[RNN-T] Epoch 91: Train Loss=3.6600, WER=1.0000, CER=1.0000 | Val Loss=3.6971, WER=1.0000, CER=1.0000\n"
          ]
        },
        {
          "output_type": "stream",
          "name": "stderr",
          "text": [
            "Epoch 92 - Training (RNN-T): 100%|██████████| 11/11 [00:10<00:00,  1.07it/s]\n",
            "Epoch 92 - Validation (RNN-T): 100%|██████████| 2/2 [00:01<00:00,  1.57it/s]\n"
          ]
        },
        {
          "output_type": "stream",
          "name": "stdout",
          "text": [
            "[RNN-T] Epoch 92: Train Loss=3.6464, WER=1.0000, CER=1.0000 | Val Loss=3.6935, WER=1.0000, CER=1.0000\n"
          ]
        },
        {
          "output_type": "stream",
          "name": "stderr",
          "text": [
            "Epoch 93 - Training (RNN-T): 100%|██████████| 11/11 [00:09<00:00,  1.11it/s]\n",
            "Epoch 93 - Validation (RNN-T): 100%|██████████| 2/2 [00:01<00:00,  1.51it/s]\n"
          ]
        },
        {
          "output_type": "stream",
          "name": "stdout",
          "text": [
            "[RNN-T] Epoch 93: Train Loss=3.6437, WER=1.0000, CER=1.0000 | Val Loss=3.6901, WER=1.0000, CER=1.0000\n"
          ]
        },
        {
          "output_type": "stream",
          "name": "stderr",
          "text": [
            "Epoch 94 - Training (RNN-T): 100%|██████████| 11/11 [00:09<00:00,  1.18it/s]\n",
            "Epoch 94 - Validation (RNN-T): 100%|██████████| 2/2 [00:01<00:00,  1.53it/s]\n"
          ]
        },
        {
          "output_type": "stream",
          "name": "stdout",
          "text": [
            "[RNN-T] Epoch 94: Train Loss=3.6379, WER=1.0000, CER=1.0000 | Val Loss=3.6867, WER=1.0000, CER=1.0000\n"
          ]
        },
        {
          "output_type": "stream",
          "name": "stderr",
          "text": [
            "Epoch 95 - Training (RNN-T): 100%|██████████| 11/11 [00:09<00:00,  1.11it/s]\n",
            "Epoch 95 - Validation (RNN-T): 100%|██████████| 2/2 [00:01<00:00,  1.54it/s]\n"
          ]
        },
        {
          "output_type": "stream",
          "name": "stdout",
          "text": [
            "[RNN-T] Epoch 95: Train Loss=3.6391, WER=1.0000, CER=1.0000 | Val Loss=3.6835, WER=1.0000, CER=1.0000\n"
          ]
        },
        {
          "output_type": "stream",
          "name": "stderr",
          "text": [
            "Epoch 96 - Training (RNN-T): 100%|██████████| 11/11 [00:09<00:00,  1.13it/s]\n",
            "Epoch 96 - Validation (RNN-T): 100%|██████████| 2/2 [00:01<00:00,  1.57it/s]\n"
          ]
        },
        {
          "output_type": "stream",
          "name": "stdout",
          "text": [
            "[RNN-T] Epoch 96: Train Loss=3.6091, WER=1.0000, CER=1.0000 | Val Loss=3.6802, WER=1.0000, CER=1.0000\n"
          ]
        },
        {
          "output_type": "stream",
          "name": "stderr",
          "text": [
            "Epoch 97 - Training (RNN-T): 100%|██████████| 11/11 [00:10<00:00,  1.09it/s]\n",
            "Epoch 97 - Validation (RNN-T): 100%|██████████| 2/2 [00:01<00:00,  1.56it/s]\n"
          ]
        },
        {
          "output_type": "stream",
          "name": "stdout",
          "text": [
            "[RNN-T] Epoch 97: Train Loss=3.6268, WER=1.0000, CER=1.0000 | Val Loss=3.6770, WER=1.0000, CER=1.0000\n"
          ]
        },
        {
          "output_type": "stream",
          "name": "stderr",
          "text": [
            "Epoch 98 - Training (RNN-T): 100%|██████████| 11/11 [00:10<00:00,  1.08it/s]\n",
            "Epoch 98 - Validation (RNN-T): 100%|██████████| 2/2 [00:01<00:00,  1.58it/s]\n"
          ]
        },
        {
          "output_type": "stream",
          "name": "stdout",
          "text": [
            "[RNN-T] Epoch 98: Train Loss=3.6211, WER=1.0000, CER=1.0000 | Val Loss=3.6739, WER=1.0000, CER=1.0000\n"
          ]
        },
        {
          "output_type": "stream",
          "name": "stderr",
          "text": [
            "Epoch 99 - Training (RNN-T): 100%|██████████| 11/11 [00:10<00:00,  1.03it/s]\n",
            "Epoch 99 - Validation (RNN-T): 100%|██████████| 2/2 [00:01<00:00,  1.56it/s]\n"
          ]
        },
        {
          "output_type": "stream",
          "name": "stdout",
          "text": [
            "[RNN-T] Epoch 99: Train Loss=3.6120, WER=1.0000, CER=1.0000 | Val Loss=3.6708, WER=1.0000, CER=1.0000\n"
          ]
        },
        {
          "output_type": "stream",
          "name": "stderr",
          "text": [
            "Epoch 100 - Training (RNN-T): 100%|██████████| 11/11 [00:09<00:00,  1.10it/s]\n",
            "Epoch 100 - Validation (RNN-T): 100%|██████████| 2/2 [00:01<00:00,  1.58it/s]"
          ]
        },
        {
          "output_type": "stream",
          "name": "stdout",
          "text": [
            "[RNN-T] Epoch 100: Train Loss=3.6041, WER=1.0000, CER=1.0000 | Val Loss=3.6677, WER=1.0000, CER=1.0000\n",
            "Baseline RNN-T Training time: 1123.8463943004608 seconds\n"
          ]
        },
        {
          "output_type": "stream",
          "name": "stderr",
          "text": [
            "\n"
          ]
        }
      ]
    },
    {
      "cell_type": "code",
      "source": [
        "# Train CTC model\n",
        "model_ctc = CTCModel()\n",
        "optimizer_ctc = torch.optim.Adam(model_ctc.parameters(), lr=1e-5)\n",
        "loss_fn_ctc = nn.CTCLoss(blank=char_to_index['|'], zero_infinity=True)\n",
        "device = get_device()\n",
        "\n",
        "# Train RNN-T model\n",
        "model_rnnt = RNNTModel()\n",
        "optimizer_rnnt = torch.optim.Adam(model_rnnt.parameters(), lr=1e-4)\n",
        "loss_fn_rnnt = nn.CTCLoss(blank=char_to_index['|'], zero_infinity=True)\n",
        "device = get_device()\n",
        "\n",
        "# Load saved CTC weights\n",
        "model_ctc.load_state_dict(torch.load(\"/content/drive/MyDrive/best_ctc_model.pt\"))\n",
        "model_ctc.to(device)\n",
        "model_ctc.eval()\n",
        "\n",
        "# Load saved RNN-T weights\n",
        "model_rnnt.load_state_dict(torch.load(\"/content/drive/MyDrive/best_rnnt_model.pt\"))\n",
        "model_rnnt.to(device)\n",
        "model_rnnt.eval()\n"
      ],
      "metadata": {
        "colab": {
          "base_uri": "https://localhost:8080/"
        },
        "id": "ccEpTFPyXMSu",
        "outputId": "2c429df2-39bb-4b50-9f0c-57eed2a29409"
      },
      "execution_count": 31,
      "outputs": [
        {
          "output_type": "execute_result",
          "data": {
            "text/plain": [
              "RNNTModel(\n",
              "  (encoder): LSTM(80, 128, batch_first=True, bidirectional=True)\n",
              "  (embed): Embedding(29, 64)\n",
              "  (decoder): LSTM(64, 128, batch_first=True)\n",
              "  (joiner): Linear(in_features=384, out_features=29, bias=True)\n",
              ")"
            ]
          },
          "metadata": {},
          "execution_count": 31
        }
      ]
    },
    {
      "cell_type": "code",
      "source": [
        "ctc_results = evaluate_and_plot_model(\n",
        "    model=model_ctc,\n",
        "    test_loader=test_loader,\n",
        "    loss_fn=loss_fn_ctc,\n",
        "    index_to_char=index_to_char,\n",
        "    device=device,\n",
        "    blank_idx=char_to_index['|'],\n",
        "    use_beam=True,\n",
        "    beam_width=5,\n",
        "    model_type=\"ctc\",\n",
        "    train_losses=ctc_train_loss,\n",
        "    val_losses=ctc_val_loss,\n",
        "    train_wer=ctc_train_wer,\n",
        "    val_wer=ctc_val_wer,\n",
        "    train_cer=ctc_train_cer,\n",
        "    val_cer=ctc_val_cer\n",
        ")\n"
      ],
      "metadata": {
        "colab": {
          "base_uri": "https://localhost:8080/",
          "height": 1000
        },
        "id": "GNAfDr0I3nie",
        "outputId": "478464b4-6986-4d66-9ecb-f495c750d9a1"
      },
      "execution_count": 32,
      "outputs": [
        {
          "output_type": "stream",
          "name": "stdout",
          "text": [
            "[Test – CTC] Loss: 3.7320 | WER: 1.0000 | CER: 1.0000\n"
          ]
        },
        {
          "output_type": "display_data",
          "data": {
            "text/plain": [
              "<Figure size 800x500 with 1 Axes>"
            ],
            "image/png": "[encoded data removed]"
          },
          "metadata": {}
        },
        {
          "output_type": "display_data",
          "data": {
            "text/plain": [
              "<Figure size 800x500 with 1 Axes>"
            ],
            "image/png": "[encoded data removed]"
          },
          "metadata": {}
        },
        {
          "output_type": "display_data",
          "data": {
            "text/plain": [
              "<Figure size 800x500 with 1 Axes>"
            ],
            "image/png": "[encoded data removed]"
          },
          "metadata": {}
        }
      ]
    },
    {
      "cell_type": "code",
      "source": [
        "rnnt_results = evaluate_and_plot_model(\n",
        "    model=model_rnnt,\n",
        "    test_loader=test_loader,\n",
        "    loss_fn=loss_fn_rnnt,\n",
        "    index_to_char=index_to_char,\n",
        "    device='cuda',\n",
        "    blank_idx=char_to_index['|'],\n",
        "    use_beam=True,\n",
        "    beam_width=5,\n",
        "    model_type=\"rnnt\",\n",
        "    train_losses=rnnt_train_loss,\n",
        "    val_losses=rnnt_val_loss,\n",
        "    train_wer=rnnt_train_wer,\n",
        "    val_wer=rnnt_val_wer,\n",
        "    train_cer=rnnt_train_cer,\n",
        "    val_cer=rnnt_val_cer\n",
        ")\n"
      ],
      "metadata": {
        "colab": {
          "base_uri": "https://localhost:8080/",
          "height": 1000
        },
        "id": "ewfLTD8M35r8",
        "outputId": "2893d3fb-108d-4d43-af83-ecce8dec348d"
      },
      "execution_count": 33,
      "outputs": [
        {
          "output_type": "stream",
          "name": "stdout",
          "text": [
            "[Test – RNNT] Loss: 3.7030 | WER: 1.0000 | CER: 1.0000\n"
          ]
        },
        {
          "output_type": "display_data",
          "data": {
            "text/plain": [
              "<Figure size 800x500 with 1 Axes>"
            ],
            "image/png": "[encoded data removed]"
          },
          "metadata": {}
        },
        {
          "output_type": "display_data",
          "data": {
            "text/plain": [
              "<Figure size 800x500 with 1 Axes>"
            ],
            "image/png": "[encoded data removed]"
          },
          "metadata": {}
        },
        {
          "output_type": "display_data",
          "data": {
            "text/plain": [
              "<Figure size 800x500 with 1 Axes>"
            ],
            "image/png": "[encoded data removed]"
          },
          "metadata": {}
        }
      ]
    }
  ]
}